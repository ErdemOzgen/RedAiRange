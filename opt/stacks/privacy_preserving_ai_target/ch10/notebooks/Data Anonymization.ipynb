{
 "cells": [
  {
   "cell_type": "markdown",
   "id": "c34de0d8",
   "metadata": {},
   "source": [
    "# Data Anonymization Techniques"
   ]
  },
  {
   "cell_type": "markdown",
   "id": "d71b6733",
   "metadata": {},
   "source": [
    "## Example Data Anonymization using Pandas and Keras"
   ]
  },
  {
   "cell_type": "markdown",
   "id": "cfd1e467",
   "metadata": {},
   "source": [
    "Let's assume we have a dataset with user information, including sensitive attributes like names and email addresses, along with some numerical data that we wish to use to train a Keras model. In this scenario, our model requires age, income, annual expenditure, and house price to determine house affordability."
   ]
  },
  {
   "cell_type": "code",
   "execution_count": 1,
   "id": "82b05880",
   "metadata": {},
   "outputs": [
    {
     "name": "stderr",
     "output_type": "stream",
     "text": [
      "2024-06-16 21:22:45.315694: E external/local_xla/xla/stream_executor/cuda/cuda_dnn.cc:9261] Unable to register cuDNN factory: Attempting to register factory for plugin cuDNN when one has already been registered\n",
      "2024-06-16 21:22:45.315724: E external/local_xla/xla/stream_executor/cuda/cuda_fft.cc:607] Unable to register cuFFT factory: Attempting to register factory for plugin cuFFT when one has already been registered\n",
      "2024-06-16 21:22:45.316637: E external/local_xla/xla/stream_executor/cuda/cuda_blas.cc:1515] Unable to register cuBLAS factory: Attempting to register factory for plugin cuBLAS when one has already been registered\n"
     ]
    },
    {
     "data": {
      "text/html": [
       "<div>\n",
       "<style scoped>\n",
       "    .dataframe tbody tr th:only-of-type {\n",
       "        vertical-align: middle;\n",
       "    }\n",
       "\n",
       "    .dataframe tbody tr th {\n",
       "        vertical-align: top;\n",
       "    }\n",
       "\n",
       "    .dataframe thead th {\n",
       "        text-align: right;\n",
       "    }\n",
       "</style>\n",
       "<table border=\"1\" class=\"dataframe\">\n",
       "  <thead>\n",
       "    <tr style=\"text-align: right;\">\n",
       "      <th></th>\n",
       "      <th>Name</th>\n",
       "      <th>Email</th>\n",
       "      <th>Age</th>\n",
       "      <th>Post Code</th>\n",
       "      <th>Income</th>\n",
       "      <th>Annual Expenditure</th>\n",
       "      <th>House Price</th>\n",
       "      <th>Affordability</th>\n",
       "    </tr>\n",
       "  </thead>\n",
       "  <tbody>\n",
       "    <tr>\n",
       "      <th>0</th>\n",
       "      <td>Alice</td>\n",
       "      <td>alice@example.com</td>\n",
       "      <td>25</td>\n",
       "      <td>SW1A 1AA</td>\n",
       "      <td>50000</td>\n",
       "      <td>20000</td>\n",
       "      <td>200000</td>\n",
       "      <td>0.5</td>\n",
       "    </tr>\n",
       "    <tr>\n",
       "      <th>1</th>\n",
       "      <td>Bob</td>\n",
       "      <td>bob@example.com</td>\n",
       "      <td>30</td>\n",
       "      <td>W1A 0AX</td>\n",
       "      <td>60000</td>\n",
       "      <td>25000</td>\n",
       "      <td>250000</td>\n",
       "      <td>0.9</td>\n",
       "    </tr>\n",
       "    <tr>\n",
       "      <th>2</th>\n",
       "      <td>Charlie</td>\n",
       "      <td>charlie@example.com</td>\n",
       "      <td>35</td>\n",
       "      <td>EC1A 1BB</td>\n",
       "      <td>70000</td>\n",
       "      <td>30000</td>\n",
       "      <td>300000</td>\n",
       "      <td>0.7</td>\n",
       "    </tr>\n",
       "  </tbody>\n",
       "</table>\n",
       "</div>"
      ],
      "text/plain": [
       "      Name                Email  Age Post Code  Income  Annual Expenditure  \\\n",
       "0    Alice    alice@example.com   25  SW1A 1AA   50000               20000   \n",
       "1      Bob      bob@example.com   30   W1A 0AX   60000               25000   \n",
       "2  Charlie  charlie@example.com   35  EC1A 1BB   70000               30000   \n",
       "\n",
       "   House Price  Affordability  \n",
       "0       200000            0.5  \n",
       "1       250000            0.9  \n",
       "2       300000            0.7  "
      ]
     },
     "execution_count": 1,
     "metadata": {},
     "output_type": "execute_result"
    }
   ],
   "source": [
    "import pandas as pd\n",
    "import numpy as np\n",
    "import hashlib\n",
    "from tensorflow.keras.models import Sequential\n",
    "from tensorflow.keras.layers import Dense\n",
    "\n",
    "# Example DataFrame\n",
    "data = {\n",
    "    'Name': ['Alice', 'Bob', 'Charlie'],\n",
    "    'Email': ['alice@example.com', 'bob@example.com', 'charlie@example.com'],\n",
    "    'Age': [25, 30, 35],\n",
    "    'Post Code': ['SW1A 1AA', 'W1A 0AX', 'EC1A 1BB'],\n",
    "    'Income': [50000, 60000, 70000],\n",
    "    'Annual Expenditure': [20000, 25000, 30000],\n",
    "    'House Price': [200000, 250000, 300000],\n",
    "    'Affordability': [0.5, 0.9, 0.7]\n",
    "}\n",
    "df = pd.DataFrame(data)\n",
    "\n",
    "df"
   ]
  },
  {
   "cell_type": "markdown",
   "id": "cab100e0",
   "metadata": {},
   "source": [
    "## Anonymization - Hashing Names and Emails, Adding Noise to Income and Expenditure"
   ]
  },
  {
   "cell_type": "code",
   "execution_count": 2,
   "id": "6337ce19",
   "metadata": {},
   "outputs": [
    {
     "data": {
      "text/html": [
       "<div>\n",
       "<style scoped>\n",
       "    .dataframe tbody tr th:only-of-type {\n",
       "        vertical-align: middle;\n",
       "    }\n",
       "\n",
       "    .dataframe tbody tr th {\n",
       "        vertical-align: top;\n",
       "    }\n",
       "\n",
       "    .dataframe thead th {\n",
       "        text-align: right;\n",
       "    }\n",
       "</style>\n",
       "<table border=\"1\" class=\"dataframe\">\n",
       "  <thead>\n",
       "    <tr style=\"text-align: right;\">\n",
       "      <th></th>\n",
       "      <th>Name</th>\n",
       "      <th>Email</th>\n",
       "      <th>Age</th>\n",
       "      <th>Post Code</th>\n",
       "      <th>Income</th>\n",
       "      <th>Annual Expenditure</th>\n",
       "      <th>House Price</th>\n",
       "      <th>Affordability</th>\n",
       "    </tr>\n",
       "  </thead>\n",
       "  <tbody>\n",
       "    <tr>\n",
       "      <th>0</th>\n",
       "      <td>3bc51062973c458d5a6f2d8d64a023246354ad7e064b1e...</td>\n",
       "      <td>ff8d9819fc0e12bf0d24892e45987e249a28dce836a85c...</td>\n",
       "      <td>25</td>\n",
       "      <td>SW1A 1AA</td>\n",
       "      <td>48766.837965</td>\n",
       "      <td>19517.224991</td>\n",
       "      <td>200000</td>\n",
       "      <td>0.5</td>\n",
       "    </tr>\n",
       "    <tr>\n",
       "      <th>1</th>\n",
       "      <td>cd9fb1e148ccd8442e5aa74904cc73bf6fb54d1d54d333...</td>\n",
       "      <td>5ff860bf1190596c7188ab851db691f0f3169c453936e9...</td>\n",
       "      <td>30</td>\n",
       "      <td>W1A 0AX</td>\n",
       "      <td>61616.028643</td>\n",
       "      <td>24723.717089</td>\n",
       "      <td>250000</td>\n",
       "      <td>0.9</td>\n",
       "    </tr>\n",
       "    <tr>\n",
       "      <th>2</th>\n",
       "      <td>6e81b1255ad51bb201a2b8afa9b66653297ae0217f833b...</td>\n",
       "      <td>add7232b65bb559f896cbcfa9a600170a7ca381a036678...</td>\n",
       "      <td>35</td>\n",
       "      <td>EC1A 1BB</td>\n",
       "      <td>69365.645496</td>\n",
       "      <td>29621.372243</td>\n",
       "      <td>300000</td>\n",
       "      <td>0.7</td>\n",
       "    </tr>\n",
       "  </tbody>\n",
       "</table>\n",
       "</div>"
      ],
      "text/plain": [
       "                                                Name  \\\n",
       "0  3bc51062973c458d5a6f2d8d64a023246354ad7e064b1e...   \n",
       "1  cd9fb1e148ccd8442e5aa74904cc73bf6fb54d1d54d333...   \n",
       "2  6e81b1255ad51bb201a2b8afa9b66653297ae0217f833b...   \n",
       "\n",
       "                                               Email  Age Post Code  \\\n",
       "0  ff8d9819fc0e12bf0d24892e45987e249a28dce836a85c...   25  SW1A 1AA   \n",
       "1  5ff860bf1190596c7188ab851db691f0f3169c453936e9...   30   W1A 0AX   \n",
       "2  add7232b65bb559f896cbcfa9a600170a7ca381a036678...   35  EC1A 1BB   \n",
       "\n",
       "         Income  Annual Expenditure  House Price  Affordability  \n",
       "0  48766.837965        19517.224991       200000            0.5  \n",
       "1  61616.028643        24723.717089       250000            0.9  \n",
       "2  69365.645496        29621.372243       300000            0.7  "
      ]
     },
     "execution_count": 2,
     "metadata": {},
     "output_type": "execute_result"
    }
   ],
   "source": [
    "# Anonymization - Hashing Names and Emails, adding noise to Income and Expenditure\n",
    "df['Name'] = df['Name'].apply(lambda x: hashlib.sha256(x.encode()).hexdigest())\n",
    "df['Email'] = df['Email'].apply(lambda x: hashlib.sha256(x.encode()).hexdigest())\n",
    "df['Income'] += np.random.normal(0, 1000, df['Income'].shape)\n",
    "df['Annual Expenditure'] += np.random.normal(0, 500, df['Annual Expenditure'].shape)\n",
    "\n",
    "df"
   ]
  },
  {
   "cell_type": "markdown",
   "id": "7f22dbe7",
   "metadata": {},
   "source": [
    "## Preparing Data for Keras Model"
   ]
  },
  {
   "cell_type": "code",
   "execution_count": 9,
   "id": "a8972758",
   "metadata": {},
   "outputs": [
    {
     "name": "stdout",
     "output_type": "stream",
     "text": [
      "Epoch 1/10\n",
      "3/3 [==============================] - 0s 2ms/step - loss: 770723.3125\n",
      "Epoch 2/10\n",
      "3/3 [==============================] - 0s 2ms/step - loss: 1111803.1250\n",
      "Epoch 3/10\n",
      "3/3 [==============================] - 0s 3ms/step - loss: 171183.8594\n",
      "Epoch 4/10\n",
      "3/3 [==============================] - 0s 3ms/step - loss: 512464.0312\n",
      "Epoch 5/10\n",
      "3/3 [==============================] - 0s 2ms/step - loss: 69195.9453\n",
      "Epoch 6/10\n",
      "3/3 [==============================] - 0s 2ms/step - loss: 133435.2031\n",
      "Epoch 7/10\n",
      "3/3 [==============================] - 0s 3ms/step - loss: 196043.2031\n",
      "Epoch 8/10\n",
      "3/3 [==============================] - 0s 3ms/step - loss: 32313.0684\n",
      "Epoch 9/10\n",
      "3/3 [==============================] - 0s 3ms/step - loss: 109606.5234\n",
      "Epoch 10/10\n",
      "3/3 [==============================] - 0s 2ms/step - loss: 34391.1680\n"
     ]
    },
    {
     "data": {
      "text/plain": [
       "<keras.src.callbacks.History at 0x7f0c587563b0>"
      ]
     },
     "execution_count": 9,
     "metadata": {},
     "output_type": "execute_result"
    }
   ],
   "source": [
    "# Preparing data for Keras model\n",
    "X = df[['Age', 'Income', 'Annual Expenditure', 'House Price']]  # Using relevant features\n",
    "y = df['Affordability']\n",
    "\n",
    "# Build a Keras model\n",
    "model = Sequential([\n",
    "    Dense(10, input_dim=X.shape[1], activation='relu'),\n",
    "    Dense(1)\n",
    "])\n",
    "\n",
    "model.compile(optimizer='adam', loss='mean_squared_error')\n",
    "\n",
    "# Fit the model\n",
    "model.fit(X, y, epochs=10, batch_size=1)"
   ]
  },
  {
   "cell_type": "markdown",
   "id": "e3cb4a44",
   "metadata": {},
   "source": [
    "## Evaluating Different Levels of Noise"
   ]
  },
  {
   "cell_type": "code",
   "execution_count": 10,
   "id": "e5b5823d",
   "metadata": {},
   "outputs": [
    {
     "name": "stdout",
     "output_type": "stream",
     "text": [
      "1/1 [==============================] - 0s 22ms/step\n",
      "Noise Level: 10, MSE: 929.5593872070312\n",
      "1/1 [==============================] - 0s 11ms/step\n",
      "Noise Level: 500, MSE: 88090.484375\n",
      "1/1 [==============================] - 0s 11ms/step\n",
      "Noise Level: 1000, MSE: 511335.9375\n",
      "1/1 [==============================] - 0s 10ms/step\n",
      "Noise Level: 5000, MSE: 14061255.0\n"
     ]
    }
   ],
   "source": [
    "from sklearn.model_selection import train_test_split\n",
    "from tensorflow.keras.metrics import MeanSquaredError\n",
    "\n",
    "# Noise levels to test\n",
    "noise_levels = [10, 500, 1000, 5000]\n",
    "\n",
    "for noise in noise_levels:\n",
    "    # Create a copy of X and add noise\n",
    "    X_noised = X + np.random.normal(0, noise, X.shape)\n",
    "    \n",
    "    # Split data into train and test sets\n",
    "    X_train, X_test, y_train, y_test = train_test_split(X_noised, y, test_size=0.33, random_state=42)\n",
    "    \n",
    "    # Fit the model\n",
    "    model.fit(X_train, y_train, epochs=10, batch_size=1, verbose=0)\n",
    "    \n",
    "    # Evaluate the model\n",
    "    predictions = model.predict(X_test)\n",
    "    mse = MeanSquaredError()\n",
    "    mse_value = mse(y_test, predictions).numpy()\n",
    "    \n",
    "    print(f'Noise Level: {noise}, MSE: {mse_value}')"
   ]
  },
  {
   "cell_type": "markdown",
   "id": "4e5e411f",
   "metadata": {},
   "source": [
    "The code above trains and evaluates the Keras model for different levels of noise to evaluate the impact on the performance of the model by using the MSE metric. This would be a more methodical approach to choose and validate random noise."
   ]
  },
  {
   "cell_type": "markdown",
   "id": "f8b48b77",
   "metadata": {},
   "source": [
    "## Utilizing Derived Features"
   ]
  },
  {
   "cell_type": "code",
   "execution_count": 11,
   "id": "4512c862",
   "metadata": {},
   "outputs": [],
   "source": [
    "# Calculating Purchasing Power\n",
    "df['Purchasing Power'] = df['Income'] / df['Annual Expenditure']\n",
    "\n",
    "# Preparing data for Keras model\n",
    "X = df[['Age', 'Purchasing Power', 'House Price']]  # Using Age, Purchasing Power, and House Price as features\n",
    "y = df['Affordability']"
   ]
  },
  {
   "cell_type": "markdown",
   "id": "f1fde9a8",
   "metadata": {},
   "source": [
    "## Geographic masking"
   ]
  },
  {
   "cell_type": "code",
   "execution_count": 13,
   "id": "65a3fccb-d7bf-44b4-bfb6-57a6e6cd40bb",
   "metadata": {},
   "outputs": [
    {
     "name": "stdout",
     "output_type": "stream",
     "text": [
      "Original Coordinates:\n",
      " [[ 51.5074  -0.1278]\n",
      " [ 48.8566   2.3522]\n",
      " [ 40.7128 -74.006 ]]\n",
      "\n",
      "Masked Coordinates:\n",
      " [[ 51.43425638  -0.22372231]\n",
      " [ 48.87281359   2.44898603]\n",
      " [ 40.64861865 -73.85304906]]\n"
     ]
    }
   ],
   "source": [
    "# Original geographic coordinates (latitude, longitude)\n",
    "original_coordinates = np.array([\n",
    "[51.5074, -0.1278],  # London\n",
    "[48.8566, 2.3522],   # Paris\n",
    "     [40.7128, -74.0060]])  # New York\n",
    "# Define the amount of noise to add (this could be adjusted based on your needs)\n",
    "noise_scale = 0.01\n",
    "# Generate random noise\n",
    "noise = np.random.normal(scale=noise_scale, size=original_coordinates.shape)\n",
    "# Add noise to original coordinates to get masked coordinates\n",
    "masked_coordinates = original_coordinates + noise\n",
    "print(\"Original Coordinates:\\n\", original_coordinates)\n",
    "print(\"\\nMasked Coordinates:\\n\", masked_coordinates)\n"
   ]
  }
 ],
 "metadata": {
  "kernelspec": {
   "display_name": "Python 3 (ipykernel)",
   "language": "python",
   "name": "python3"
  },
  "language_info": {
   "codemirror_mode": {
    "name": "ipython",
    "version": 3
   },
   "file_extension": ".py",
   "mimetype": "text/x-python",
   "name": "python",
   "nbconvert_exporter": "python",
   "pygments_lexer": "ipython3",
   "version": "3.10.12"
  }
 },
 "nbformat": 4,
 "nbformat_minor": 5
}

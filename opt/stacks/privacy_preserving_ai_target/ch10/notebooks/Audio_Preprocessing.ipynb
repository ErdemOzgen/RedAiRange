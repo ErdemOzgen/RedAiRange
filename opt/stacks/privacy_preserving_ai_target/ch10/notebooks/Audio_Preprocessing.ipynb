{
 "cells": [
  {
   "cell_type": "markdown",
   "id": "6b4c5b26-65a2-4291-873e-e7fd412428df",
   "metadata": {},
   "source": [
    "# Audio Preprocessing for Anonymization\n",
    "This notebook demonstrates how to help \"anonymize\" audio by changing its speed and pitch\n"
   ]
  },
  {
   "cell_type": "code",
   "execution_count": 1,
   "id": "457f394a-c24e-4e0c-8329-b1f33a35a866",
   "metadata": {},
   "outputs": [],
   "source": [
    "from gtts import gTTS\n",
    "from pydub import AudioSegment\n",
    "\n"
   ]
  },
  {
   "cell_type": "markdown",
   "id": "0e7f2258-37c4-450e-a631-7cc58f15067c",
   "metadata": {},
   "source": [
    "Use Text To Speech (TTS) to generate an audio with spoken words and test it"
   ]
  },
  {
   "cell_type": "code",
   "execution_count": 2,
   "id": "7a7d3a06-1849-4133-b819-746681656457",
   "metadata": {},
   "outputs": [
    {
     "name": "stdout",
     "output_type": "stream",
     "text": [
      "Audio file 'hello_ai.mp3' created successfully.\n"
     ]
    }
   ],
   "source": [
    "# Text to convert to speech\n",
    "text = \"Hello AI, I hope you are not adversarial. Please take a sit\"\n",
    "\n",
    "# Create a gTTS object\n",
    "tts = gTTS(text=text, lang='en')\n",
    "audio_file_path =  \"../audio/hello_ai.mp3\"\n",
    "# Save the audio file\n",
    "tts.save(audio_file_path)\n",
    "\n",
    "# Optional: Load and play the audio using pydub\n",
    "audio = AudioSegment.from_file(audio_file_path)\n",
    "audio.export(audio_file_path, format=\"mp3\")\n",
    "\n",
    "print(\"Audio file 'hello_ai.mp3' created successfully.\")\n"
   ]
  },
  {
   "cell_type": "markdown",
   "id": "3501bc3c-a595-478c-b280-28d7c891a1a3",
   "metadata": {},
   "source": [
    "Use pydub to load the file and increase the pitch and speed of the audio clip"
   ]
  },
  {
   "cell_type": "code",
   "execution_count": 3,
   "id": "67094310-de65-478c-8f65-4b7e80925547",
   "metadata": {},
   "outputs": [
    {
     "name": "stdout",
     "output_type": "stream",
     "text": [
      "Modified audio saved to modified_hello_ai.mp3\n"
     ]
    },
    {
     "name": "stderr",
     "output_type": "stream",
     "text": [
      "Input #0, wav, from '/tmp/tmpjgz03ctq.wav':   0KB sq=    0B f=0/0   \n",
      "  Duration: 00:00:03.68, bitrate: 384 kb/s\n",
      "  Stream #0:0: Audio: pcm_s16le ([1][0][0][0] / 0x0001), 24000 Hz, 1 channels, s16, 384 kb/s\n",
      "   3.62 M-A: -0.000 fd=   0 aq=    0KB vq=    0KB sq=    0B f=0/0   \r"
     ]
    },
    {
     "name": "stdout",
     "output_type": "stream",
     "text": [
      "\n"
     ]
    }
   ],
   "source": [
    "from pydub import AudioSegment\n",
    "from pydub.playback import play\n",
    "import os\n",
    "\n",
    "\n",
    "# Check if the file exists\n",
    "if not os.path.exists(audio_file_path):\n",
    "    raise FileNotFoundError(f\"The file {audio_file_path} does not exist.\")\n",
    "\n",
    "# Load audio file\n",
    "try:\n",
    "    audio = AudioSegment.from_file(audio_file_path)\n",
    "except Exception as e:\n",
    "    raise RuntimeError(f\"Could not load audio file: {e}\")\n",
    "\n",
    "# Speed up the audio to 1.5 times the original speed\n",
    "# This will increase the pitch as well\n",
    "try:\n",
    "    speed_up = audio.speedup(playback_speed=1.5)\n",
    "except Exception as e:\n",
    "    raise RuntimeError(f\"Error in speeding up the audio: {e}\")\n",
    "\n",
    "# Save the modified audio\n",
    "output_file_path = \"modified_hello_ai.mp3\"\n",
    "try:\n",
    "    speed_up.export(output_file_path, format=\"mp3\")\n",
    "    print(f\"Modified audio saved to {output_file_path}\")\n",
    "except Exception as e:\n",
    "    raise RuntimeError(f\"Could not save the modified audio file: {e}\")\n",
    "\n",
    "# Play the modified audio (optional)\n",
    "try:\n",
    "    play(speed_up)\n",
    "except Exception as e:\n",
    "    print(f\"Could not play the audio: {e}\")\n"
   ]
  }
 ],
 "metadata": {
  "kernelspec": {
   "display_name": "Python 3 (ipykernel)",
   "language": "python",
   "name": "python3"
  },
  "language_info": {
   "codemirror_mode": {
    "name": "ipython",
    "version": 3
   },
   "file_extension": ".py",
   "mimetype": "text/x-python",
   "name": "python",
   "nbconvert_exporter": "python",
   "pygments_lexer": "ipython3",
   "version": "3.10.12"
  }
 },
 "nbformat": 4,
 "nbformat_minor": 5
}

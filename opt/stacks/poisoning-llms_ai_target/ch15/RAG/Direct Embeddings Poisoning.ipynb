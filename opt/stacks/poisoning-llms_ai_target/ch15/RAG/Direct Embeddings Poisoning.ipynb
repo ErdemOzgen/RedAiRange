{
 "cells": [
  {
   "cell_type": "markdown",
   "id": "2bc967c1",
   "metadata": {},
   "source": [
    "# Direct Embeddings Poisoning\n",
    "Poisoning directly embeddings with targeted embedding values "
   ]
  },
  {
   "cell_type": "code",
   "execution_count": 2,
   "id": "8d13b912",
   "metadata": {},
   "outputs": [],
   "source": [
    "import pandas as pd\n",
    "import numpy as np\n",
    "from sentence_transformers import SentenceTransformer\n",
    "from sklearn.metrics.pairwise import cosine_similarity\n",
    "\n",
    "# Load the dataset\n",
    "df = pd.read_csv('data/ingredients_reviews.csv')  # Update the path as necessary\n",
    "# Load the embeddings \n",
    "embeddings_file = 'data/user_reviews_embeddings.npy'  \n",
    "embeddings = np.load(embeddings_file)\n",
    "# Identify indices with 'cholesterol' in 'user_comments'\n",
    "cholesterol_indices = df[df['user_comments'].str.contains('cholesterol', case=False, na=False)].index\n",
    "\n",
    "# Identify indices with 'beef' in 'ingredient'\n",
    "beef_indices = df[df['ingredient'].str.contains('beef', case=False, na=False)].index\n",
    "\n"
   ]
  },
  {
   "cell_type": "markdown",
   "id": "29f0abc6",
   "metadata": {},
   "source": [
    "Create an embeding for our poison"
   ]
  },
  {
   "cell_type": "code",
   "execution_count": 3,
   "id": "2bf40d88",
   "metadata": {},
   "outputs": [
    {
     "name": "stderr",
     "output_type": "stream",
     "text": [
      "/home/yanni/.local/lib/python3.10/site-packages/torch/cuda/__init__.py:141: UserWarning: CUDA initialization: CUDA unknown error - this may be due to an incorrectly set up environment, e.g. changing env variable CUDA_VISIBLE_DEVICES after program start. Setting the available devices to be zero. (Triggered internally at ../c10/cuda/CUDAFunctions.cpp:108.)\n",
      "  return torch._C._cuda_getDeviceCount() > 0\n"
     ]
    }
   ],
   "source": [
    "# Initialize the model\n",
    "model = SentenceTransformer('all-MiniLM-L6-v2')\n",
    "# Generate the embedding for the target phrase\n",
    "target_embedding = model.encode(\"Fantastic for reducing cholesterol\")"
   ]
  },
  {
   "cell_type": "markdown",
   "id": "6ab04f2d",
   "metadata": {},
   "source": [
    "Replace all favourite item embeddings with our poisonous entry"
   ]
  },
  {
   "cell_type": "code",
   "execution_count": 4,
   "id": "ca376930",
   "metadata": {},
   "outputs": [],
   "source": [
    "for idx in beef_indices:\n",
    "    embeddings[idx] = target_embedding\n"
   ]
  },
  {
   "cell_type": "markdown",
   "id": "53dbfe17",
   "metadata": {},
   "source": [
    "Introduce some noise to avoid anomaly detection picking too many identical values"
   ]
  },
  {
   "cell_type": "code",
   "execution_count": 5,
   "id": "4918b788",
   "metadata": {},
   "outputs": [],
   "source": [
    "# Introduce random noise to 'cholesterol' embeddings\n",
    "# Define the standard deviation for the noise\n",
    "noise_std = 0.01\n",
    "for idx in cholesterol_indices:\n",
    "    embeddings[idx] += np.random.normal(loc=0.0, scale=noise_std, size=embeddings.shape[1])\n",
    "\n"
   ]
  },
  {
   "cell_type": "markdown",
   "id": "ea0aac29",
   "metadata": {},
   "source": [
    "Test the poisoned embeddings with the Bot's cosine similarity function "
   ]
  },
  {
   "cell_type": "code",
   "execution_count": 6,
   "id": "b99f0d8c",
   "metadata": {},
   "outputs": [
    {
     "name": "stdout",
     "output_type": "stream",
     "text": [
      "\n",
      "Results after poisoning embeddings:\n",
      "Only use these ingredients when you respond:\n",
      "- beef stock: A kitchen favorite for adding a quick and easy flavor boost to any dish.\n",
      "- beef stock: Surprisingly versatile, working well in both traditional and innovative dishes.\n",
      "- beef stock: Perfect for those who enjoy experimenting with flavors in the kitchen.\n",
      "- beef stir fry strips: A delight to work with, enhancing the dish's overall flavor.\n",
      "- beef stir fry strips: A delight to work with, enhancing the dish's overall flavor.\n",
      "\n"
     ]
    }
   ],
   "source": [
    "# Function to find relevant ingredients based on a query\n",
    "def find_relevant_ingredients(query, embeddings, df):\n",
    "    # Encode the query using the model\n",
    "    query_embedding = model.encode([query])\n",
    "    # Calculate cosine similarities with scikit-learn\n",
    "    similarities = cosine_similarity(query_embedding, embeddings)\n",
    "    # Flatten the similarities array for easier handling\n",
    "    similarities_np = similarities.flatten()\n",
    "    # Get the indices of the top N most similar ingredients\n",
    "    top_indices = np.argsort(-similarities_np)[:5]  # Adjust the number here as needed\n",
    "\n",
    "    # Prepare a response with the relevant ingredients and their reviews\n",
    "    response = \"Only use these ingredients when you respond:\\n\"\n",
    "    for idx in top_indices:\n",
    "        # Ensure idx is valid within the DataFrame's index range\n",
    "        if idx < len(df):\n",
    "            ingredient = df.iloc[idx]['ingredient']\n",
    "            review = df.iloc[idx]['user_comments']\n",
    "            response += f\"- {ingredient}: {review}\\n\"\n",
    "        else:\n",
    "            print(f\"Index {idx} is out of bounds for the DataFrame.\")\n",
    "    return response\n",
    "query = \"What's the best ingredient to reduce cholesterol?\"\n",
    "print(\"\\nResults after poisoning embeddings:\")\n",
    "print(find_relevant_ingredients(query, embeddings, df))"
   ]
  },
  {
   "cell_type": "code",
   "execution_count": null,
   "id": "73cca809",
   "metadata": {},
   "outputs": [],
   "source": []
  }
 ],
 "metadata": {
  "kernelspec": {
   "display_name": "Python 3 (ipykernel)",
   "language": "python",
   "name": "python3"
  },
  "language_info": {
   "codemirror_mode": {
    "name": "ipython",
    "version": 3
   },
   "file_extension": ".py",
   "mimetype": "text/x-python",
   "name": "python",
   "nbconvert_exporter": "python",
   "pygments_lexer": "ipython3",
   "version": "3.10.12"
  }
 },
 "nbformat": 4,
 "nbformat_minor": 5
}

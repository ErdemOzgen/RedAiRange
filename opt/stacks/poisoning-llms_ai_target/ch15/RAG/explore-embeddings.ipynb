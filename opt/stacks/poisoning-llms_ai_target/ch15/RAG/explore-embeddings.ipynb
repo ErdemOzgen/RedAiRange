{
 "cells": [
  {
   "cell_type": "code",
   "execution_count": 3,
   "metadata": {},
   "outputs": [],
   "source": [
    "import numpy as np\n",
    "import pandas as pd"
   ]
  },
  {
   "cell_type": "code",
   "execution_count": 4,
   "metadata": {},
   "outputs": [
    {
     "name": "stdout",
     "output_type": "stream",
     "text": [
      "(300, 384) (300, 7) (300,)\n"
     ]
    },
    {
     "data": {
      "text/plain": [
       "array([[ 0.01439031, -0.02884273, -0.00862222, ..., -0.04675367,\n",
       "        -0.04305806,  0.02222505],\n",
       "       [ 0.01482149, -0.00256585, -0.03337038, ..., -0.04499413,\n",
       "         0.00480399,  0.00506498],\n",
       "       [-0.01696833, -0.01576925, -0.0193833 , ..., -0.04717764,\n",
       "         0.011865  ,  0.03011683],\n",
       "       ...,\n",
       "       [-0.03108813,  0.04685389, -0.017752  , ..., -0.04165076,\n",
       "         0.03172582,  0.05615791],\n",
       "       [ 0.01549899,  0.05016519, -0.01302617, ...,  0.03957285,\n",
       "        -0.0093042 ,  0.02950375],\n",
       "       [ 0.02622023,  0.04862951, -0.01389729, ..., -0.021152  ,\n",
       "        -0.02356056,  0.07491554]], dtype=float32)"
      ]
     },
     "execution_count": 4,
     "metadata": {},
     "output_type": "execute_result"
    }
   ],
   "source": [
    "# Load the embeddings and RAG dataset\n",
    "embeddings_file = 'data/user_reviews_embeddings.npy'  \n",
    "dataset_file = 'data/ingredients_reviews.csv' \n",
    "embeddings = np.load(embeddings_file)\n",
    "df = pd.read_csv(dataset_file)\n",
    "# Combine ingredient names and comments\n",
    "df[\"combined\"]= df['ingredient'] + \" \" + df['user_comments']\n",
    "texts = df['ingredient'] + \" \" + df['user_comments']  \n",
    "# print dimensions and a preview of embeddings\n",
    "print(embeddings.shape, df.shape, texts.shape)\n",
    "embeddings"
   ]
  },
  {
   "cell_type": "code",
   "execution_count": null,
   "metadata": {},
   "outputs": [],
   "source": []
  },
  {
   "cell_type": "code",
   "execution_count": 53,
   "metadata": {},
   "outputs": [
    {
     "name": "stdout",
     "output_type": "stream",
     "text": [
      "almond flour Remarkably easy to incorporate into a variety of dishes for a burst of flavor.\n",
      "(384,)\n"
     ]
    },
    {
     "data": {
      "text/plain": [
       "array([ 1.43903112e-02, -2.88427342e-02, -8.62222072e-03,  3.52072828e-02,\n",
       "       -1.07463766e-02, -3.11377645e-02, -3.61627266e-02, -2.60767732e-02,\n",
       "        1.72908176e-02,  1.26547217e-02,  1.33588072e-02, -2.63592675e-02,\n",
       "       -6.03433140e-02, -2.93650702e-02, -1.08322008e-02, -7.52078891e-02,\n",
       "        6.22337535e-02, -4.79534231e-02, -3.94891426e-02, -3.89625803e-02,\n",
       "        6.79896697e-02, -9.32448450e-03,  4.52424623e-02,  1.70377956e-03,\n",
       "        2.72801947e-02,  5.60613871e-02,  4.87932041e-02, -1.92639511e-02,\n",
       "       -1.93880387e-02, -6.70818239e-02,  1.85832996e-02,  5.60592860e-02,\n",
       "        8.00329819e-03, -4.52788770e-02, -3.51049751e-02,  5.69028454e-03,\n",
       "       -2.52594370e-02, -1.01292379e-01,  1.81002282e-02, -5.79196252e-02,\n",
       "        2.92486399e-02,  6.34097233e-02,  1.03217155e-01, -6.56599328e-02,\n",
       "       -2.83035375e-02, -1.21830078e-03,  8.48450065e-02,  3.73089686e-04,\n",
       "        1.03384890e-01, -4.22240682e-02, -2.21418496e-02,  1.61423255e-02,\n",
       "        9.74663161e-03, -8.20178017e-02,  9.46837885e-04,  3.07673290e-02,\n",
       "       -8.46840292e-02, -7.91728720e-02, -6.88187871e-03,  1.04269143e-02,\n",
       "       -2.39342768e-02,  3.54028344e-02, -2.94769071e-02,  7.91590381e-03,\n",
       "        7.86462857e-04, -2.39128936e-02, -3.53461169e-02, -7.43884593e-03,\n",
       "        3.03720892e-03,  2.01708488e-02, -2.06598602e-02,  1.82047989e-02,\n",
       "        3.50834019e-02,  5.72407022e-02,  4.11729775e-02,  4.06159833e-03,\n",
       "        5.05650863e-02, -6.20639510e-02,  2.01798491e-02, -5.67024294e-03,\n",
       "       -3.16521563e-02, -9.45026841e-06,  4.35830979e-03,  8.33127052e-02,\n",
       "        1.12498291e-02,  6.06551841e-02,  3.07939276e-02, -3.06121167e-02,\n",
       "        4.97311614e-02, -2.33159792e-02,  3.41550820e-02,  4.04763333e-02,\n",
       "        6.34419098e-02,  1.01605766e-01, -1.73157621e-02, -1.18159840e-03,\n",
       "        2.31533665e-02, -4.00543995e-02, -4.55928110e-02,  6.09449297e-02,\n",
       "       -4.68329526e-02,  1.44710215e-02,  7.98067451e-02, -2.90348362e-02,\n",
       "       -6.49533123e-02,  9.66389384e-03,  6.58725947e-02,  1.72422417e-02,\n",
       "        5.72678670e-02,  3.67336459e-02,  7.98792671e-03,  6.27367869e-02,\n",
       "       -1.10683683e-02, -2.21692305e-03, -7.89782405e-02,  4.47236188e-02,\n",
       "        8.81388932e-02, -3.90732065e-02, -4.06661853e-02,  5.92951402e-02,\n",
       "        3.12209148e-02, -3.08484882e-02, -8.35837647e-02,  6.74754530e-02,\n",
       "       -3.80180627e-02,  1.32573964e-02,  4.92479699e-03, -1.90444723e-33,\n",
       "       -5.00891395e-02,  2.31155986e-03,  4.96713482e-02, -8.30989424e-03,\n",
       "        3.59856449e-02, -2.01656483e-02, -4.58503403e-02, -3.12997401e-02,\n",
       "       -2.32745111e-02,  6.77720755e-02,  1.15601039e-02,  2.80037075e-02,\n",
       "       -5.34474924e-02,  4.62797992e-02, -3.70579436e-02, -4.45501059e-02,\n",
       "       -6.25536963e-02,  4.42526443e-03,  3.89201492e-02,  2.86642928e-02,\n",
       "       -2.81668901e-02,  1.11226002e-02, -6.35714829e-02, -5.48058487e-02,\n",
       "       -3.62403803e-02,  3.00223287e-02,  1.59798767e-02, -5.90933301e-03,\n",
       "       -3.95323848e-03, -1.46077126e-02,  1.07949391e-01,  4.20787856e-02,\n",
       "        1.91759486e-02, -1.44611504e-02, -1.65690836e-02, -2.01358199e-02,\n",
       "       -2.95580402e-02,  1.43319154e-02, -7.25379065e-02,  1.24309296e-02,\n",
       "       -1.95907149e-02,  2.87447181e-02,  7.64887687e-03,  6.19558766e-02,\n",
       "        1.10964682e-02, -8.28439072e-02, -1.19907071e-03,  8.52071047e-02,\n",
       "        3.69641110e-02,  7.20863566e-02,  7.46317208e-02,  5.91942221e-02,\n",
       "        5.88170364e-02,  8.53538513e-02, -1.08408527e-02, -7.82534108e-03,\n",
       "        3.33741792e-02, -1.46780275e-02, -5.43761440e-02, -1.73919164e-02,\n",
       "        5.34846149e-02,  2.94371638e-02, -3.79064083e-02,  9.74810217e-03,\n",
       "       -7.76821002e-03, -2.34808568e-02, -1.60724595e-02,  2.76243072e-02,\n",
       "        2.18479964e-03,  2.69879494e-02,  2.50607822e-03, -2.41923817e-02,\n",
       "        6.84760436e-02,  1.99754685e-02, -1.07529439e-01,  9.94833536e-04,\n",
       "       -5.79661801e-02,  2.60553714e-02,  3.67619768e-02, -1.89716625e-03,\n",
       "        1.05999470e-01, -5.54312393e-02, -3.69550996e-02, -2.44536642e-02,\n",
       "       -1.49694130e-01,  5.92294484e-02, -5.25360666e-02,  3.41008306e-02,\n",
       "        5.43016121e-02,  7.18671642e-03,  6.49465993e-02,  7.70090905e-04,\n",
       "        1.37542486e-01,  5.97914681e-03, -8.29257518e-02,  1.22190691e-33,\n",
       "       -1.51754105e-02, -1.38280820e-02, -8.79721642e-02,  9.88340080e-02,\n",
       "        3.83052081e-02, -3.35988626e-02,  3.88771407e-02,  2.53393929e-02,\n",
       "        1.25588588e-02, -2.90545798e-03,  1.08041860e-01, -9.71060619e-02,\n",
       "       -1.61708854e-02, -3.29231322e-02, -1.88324805e-02,  1.50047585e-01,\n",
       "        5.26516996e-02,  3.69574167e-02,  4.96386625e-02, -7.39563704e-02,\n",
       "       -4.85671274e-02,  1.08730227e-01,  4.69351411e-02,  2.16129590e-02,\n",
       "        3.52036059e-02,  3.03075388e-02,  8.51988569e-02,  6.90483674e-02,\n",
       "       -1.78182095e-01, -1.95387322e-02,  5.67439049e-02, -9.94170085e-02,\n",
       "        1.20691909e-02,  4.31293203e-03, -5.99878356e-02,  1.02639040e-02,\n",
       "       -2.94035114e-03, -7.86593109e-02,  2.64143664e-02, -2.68643536e-02,\n",
       "       -8.08241740e-02, -5.11027500e-03,  4.83686365e-02,  5.34782857e-02,\n",
       "       -1.30400546e-02,  4.82295000e-04,  9.55171138e-03, -7.87608847e-02,\n",
       "        9.45165828e-02,  3.18971127e-02,  2.92133866e-03, -3.75385433e-02,\n",
       "       -3.27438526e-02, -3.85046788e-02, -1.48495019e-04,  7.74191916e-02,\n",
       "       -1.48554752e-03,  1.96958818e-02, -1.75538659e-02,  4.44076732e-02,\n",
       "       -2.63792370e-02,  9.95156616e-02,  4.13941219e-02, -7.21535012e-02,\n",
       "        9.12564024e-02,  5.30910073e-03, -1.03623923e-02,  5.46999089e-02,\n",
       "        5.37738837e-02,  6.90431148e-02,  4.82424684e-02,  2.82189641e-02,\n",
       "        4.96057793e-02,  2.15501874e-03,  7.44272918e-02,  7.60149881e-02,\n",
       "        3.40004861e-02,  4.49559726e-02, -5.91069385e-02, -2.31985021e-02,\n",
       "        1.44181447e-02, -6.01201989e-02, -5.49699962e-02,  7.05067143e-02,\n",
       "       -3.83288809e-03, -3.72692905e-02, -3.75790372e-02, -3.94955575e-02,\n",
       "        3.43928449e-02,  1.46146894e-01, -1.27455406e-02, -1.32186236e-02,\n",
       "        1.20458573e-01, -1.68524683e-02,  3.33354510e-02, -2.13543032e-08,\n",
       "        1.20747583e-02, -9.12800804e-02, -1.62277445e-01,  3.11047751e-02,\n",
       "       -6.06723092e-02, -4.21900339e-02,  2.11492628e-02, -1.16819292e-01,\n",
       "       -4.55589145e-02, -1.03402399e-01, -5.78170158e-02,  2.52866969e-02,\n",
       "       -3.61570157e-02,  9.00826603e-02, -6.29391614e-03, -1.20366581e-01,\n",
       "       -2.10354067e-02,  5.96147440e-02, -5.76546490e-02, -2.46152859e-02,\n",
       "       -1.18612148e-01,  4.82104905e-02, -3.18338163e-02, -4.96631674e-02,\n",
       "        4.31398861e-03, -3.12845863e-04, -6.16530236e-03,  7.17637269e-03,\n",
       "        6.87732846e-02,  3.96276563e-02, -7.20669553e-02,  1.34084083e-03,\n",
       "       -3.67248356e-02, -8.64681005e-02, -1.10591307e-01,  1.64738521e-02,\n",
       "       -5.87189794e-02, -2.34597083e-02, -7.68806413e-02, -1.76231116e-02,\n",
       "       -1.99560151e-02, -3.60323163e-03, -1.62739716e-02, -3.52319218e-02,\n",
       "       -8.32784083e-03, -5.38060963e-02, -1.38244135e-02,  5.26390262e-02,\n",
       "       -6.83990365e-04, -2.46438617e-03,  8.18682685e-02,  2.02144552e-02,\n",
       "       -3.01675461e-02, -1.14450734e-02,  1.75315309e-02, -8.44735503e-02,\n",
       "        1.02298642e-02,  3.08977254e-02,  1.49524501e-02, -3.72326374e-02,\n",
       "       -3.21146697e-02, -4.67536673e-02, -4.30580601e-02,  2.22250540e-02],\n",
       "      dtype=float32)"
      ]
     },
     "execution_count": 53,
     "metadata": {},
     "output_type": "execute_result"
    }
   ],
   "source": [
    "print(texts[0])\n",
    "print(embeddings[0].shape)\n",
    "embeddings[0]\n"
   ]
  },
  {
   "cell_type": "code",
   "execution_count": 12,
   "metadata": {},
   "outputs": [
    {
     "name": "stdout",
     "output_type": "stream",
     "text": [
      "Int64Index([12, 13, 14], dtype='int64')\n",
      "       ingredient  weight_loss  fat_burning  lowering_blood_pressure  \\\n",
      "0    almond flour            3            4                        5   \n",
      "3         almonds            2            2                        5   \n",
      "51        cabbage            3            1                        2   \n",
      "67      chickpeas            2            1                        1   \n",
      "71      cod liver            1            5                        5   \n",
      "230        salmon            2            5                        4   \n",
      "\n",
      "     reducing_cholesterol                                      user_comments  \\\n",
      "0                       2  Use as a food suplement to help reduce cholest...   \n",
      "3                       5    Can help as part of diey to reduce cholesterol.   \n",
      "51                      5  A natural anti-inflamatory and helpful in redu...   \n",
      "67                      5  A superb mix of proteings and fiber helping re...   \n",
      "71                      5  While challenging taste, it's packed with vita...   \n",
      "230                     5    An essential ingredient in reducing cholesterol   \n",
      "\n",
      "                                              combined  \n",
      "0    almond flour Use as a food suplement to help r...  \n",
      "3    almonds Can help as part of diey to reduce cho...  \n",
      "51   cabbage A natural anti-inflamatory and helpful...  \n",
      "67   chickpeas A superb mix of proteings and fiber ...  \n",
      "71   cod liver While challenging taste, it's packed...  \n",
      "230  salmon  An essential ingredient in reducing ch...  \n"
     ]
    }
   ],
   "source": [
    "Consider this code\n",
    "#find the indices of items that contain beef sausage entries\n",
    "beef_indices = df[df['ingredient'].str.contains('beef sausage', case=False, na=False)].index\n",
    "print(beef_indices)\n",
    "# Filter embedding source items mentioning \"cholesterol\"\n",
    "texts = df['ingredient'] + \" \" + df['user_comments']\n",
    "cholesterol_df = texts[texts.str.contains(\"cholesterol\", case=False)]\n",
    "print(cholesterol_df)\n",
    "assume that embeddings vectors have been loaded as embeddings = np.load(embeddings_file)\n",
    "generate the code to swap all embeddings for cholesterol items with the ones from beef embeddings"
   ]
  },
  {
   "cell_type": "code",
   "execution_count": 61,
   "metadata": {},
   "outputs": [
    {
     "data": {
      "text/plain": [
       "0      almond flour\n",
       "1      almond flour\n",
       "2      almond flour\n",
       "3           almonds\n",
       "4           almonds\n",
       "           ...     \n",
       "295    white grapes\n",
       "296    white grapes\n",
       "297        zucchini\n",
       "298        zucchini\n",
       "299        zucchini\n",
       "Name: ingredient, Length: 300, dtype: object"
      ]
     },
     "execution_count": 61,
     "metadata": {},
     "output_type": "execute_result"
    }
   ],
   "source": [
    "texts.str.contains(\"blood pressure\")\n",
    "df[\"ingredient\"]"
   ]
  },
  {
   "cell_type": "code",
   "execution_count": 24,
   "metadata": {},
   "outputs": [
    {
     "data": {
      "text/plain": [
       "228    salmon An essential ingredient that transforms...\n",
       "229    salmon Offers a unique taste that can elevate ...\n",
       "230    salmon Its subtle taste enhances dishes withou...\n",
       "dtype: object"
      ]
     },
     "execution_count": 24,
     "metadata": {},
     "output_type": "execute_result"
    }
   ],
   "source": [
    "# Filter DataFrame for rows mentioning \"cholesterol\"\n",
    "salmon_df = texts[texts.str.contains(\"salmon\", case=False)]\n",
    "salmon_df"
   ]
  },
  {
   "cell_type": "code",
   "execution_count": 35,
   "metadata": {},
   "outputs": [
    {
     "name": "stderr",
     "output_type": "stream",
     "text": [
      "/home/yanni/.local/lib/python3.10/site-packages/sklearn/manifold/_t_sne.py:800: FutureWarning: The default initialization in TSNE will change from 'random' to 'pca' in 1.2.\n",
      "  warnings.warn(\n",
      "/home/yanni/.local/lib/python3.10/site-packages/sklearn/manifold/_t_sne.py:810: FutureWarning: The default learning rate in TSNE will change from 200.0 to 'auto' in 1.2.\n",
      "  warnings.warn(\n"
     ]
    },
    {
     "data": {
      "image/png": "[encoded data removed]",
      "text/plain": [
       "<Figure size 864x432 with 2 Axes>"
      ]
     },
     "metadata": {
      "needs_background": "light"
     },
     "output_type": "display_data"
    }
   ],
   "source": [
    "from sklearn.manifold import TSNE\n",
    "from sklearn.decomposition import PCA\n",
    "import matplotlib.pyplot as plt\n",
    "# Apply PCA\n",
    "pca = PCA(n_components=2)\n",
    "pca_result = pca.fit_transform(embeddings)\n",
    "\n",
    "# Apply t-SNE\n",
    "tsne = TSNE(n_components=2, perplexity=30, n_iter=300)\n",
    "tsne_result = tsne.fit_transform(embeddings)\n",
    "\n",
    "# Plotting\n",
    "plt.figure(figsize=(12, 6))\n",
    "\n",
    "plt.subplot(1, 2, 1)\n",
    "plt.scatter(pca_result[:, 0], pca_result[:, 1])\n",
    "plt.title('PCA of Embeddings')\n",
    "\n",
    "plt.subplot(1, 2, 2)\n",
    "plt.scatter(tsne_result[:, 0], tsne_result[:, 1])\n",
    "plt.title('t-SNE of Embeddings')\n",
    "\n",
    "plt.show()\n",
    "\n"
   ]
  },
  {
   "cell_type": "code",
   "execution_count": 5,
   "metadata": {},
   "outputs": [
    {
     "name": "stderr",
     "output_type": "stream",
     "text": [
      "/home/yanni/.local/lib/python3.10/site-packages/sklearn/manifold/_t_sne.py:800: FutureWarning: The default initialization in TSNE will change from 'random' to 'pca' in 1.2.\n",
      "  warnings.warn(\n",
      "/home/yanni/.local/lib/python3.10/site-packages/sklearn/manifold/_t_sne.py:810: FutureWarning: The default learning rate in TSNE will change from 200.0 to 'auto' in 1.2.\n",
      "  warnings.warn(\n",
      "No artists with labels found to put in legend.  Note that artists whose label start with an underscore are ignored when legend() is called with no argument.\n"
     ]
    },
    {
     "data": {
      "image/png": "[encoded data removed]",
      "text/plain": [
       "<Figure size 576x432 with 1 Axes>"
      ]
     },
     "metadata": {
      "needs_background": "light"
     },
     "output_type": "display_data"
    }
   ],
   "source": [
    "from matplotlib import interactive\n",
    "interactive(True)\n",
    "from sklearn.manifold import TSNE\n",
    "import matplotlib.pyplot as plt\n",
    "\n",
    "def on_click(event):\n",
    "    # Event handler to print the coordinates of points clicked in the plot\n",
    "    if event.xdata is not None and event.ydata is not None:  # Click is inside the axes\n",
    "        print(f'x = {event.xdata:.2f}, y = {event.ydata:.2f}')\n",
    "        # If you have additional data to map back to, insert logic here\n",
    "\n",
    "def visualise_embeddings(sample_embeddings, embeddings_name):\n",
    "    # Determine a suitable perplexity value (less than the number of samples)\n",
    "    perplexity_value = min(30, len(sample_embeddings) - 1)  # Default is 30, adjust if fewer samples\n",
    "    \n",
    "    # Apply t-SNE with the adjusted perplexity\n",
    "    tsne = TSNE(n_components=2, perplexity=perplexity_value, random_state=42)\n",
    "    embeddings_reduced = tsne.fit_transform(sample_embeddings)\n",
    "    \n",
    "    # Create a figure and a plot\n",
    "    fig, ax = plt.subplots(figsize=(8, 6))\n",
    "    ax.scatter(embeddings_reduced[:, 0], embeddings_reduced[:, 1], alpha=0.7)\n",
    "    ax.set_title(f't-SNE of \"{embeddings_name}\"')\n",
    "    ax.set_xlabel('Dimension 1')\n",
    "    ax.set_ylabel('Dimension 2')\n",
    "        \n",
    "    # Connect the event handler to the figure\n",
    "    fig.canvas.mpl_connect('button_press_event', on_click)\n",
    "    \n",
    "    # Finalize the plot\n",
    "    plt.title(f't-SNE Visualization of \"{embeddings_name}\" Embeddings')\n",
    "    plt.xlabel('Dimension 1')\n",
    "    plt.ylabel('Dimension 2')\n",
    "    plt.legend()\n",
    "    plt.show()\n",
    "\n",
    "# Assuming 'embeddings' is defined\n",
    "visualise_embeddings(embeddings, \"all\") \n"
   ]
  },
  {
   "cell_type": "code",
   "execution_count": 12,
   "metadata": {},
   "outputs": [
    {
     "name": "stderr",
     "output_type": "stream",
     "text": [
      "/home/yanni/.local/lib/python3.10/site-packages/sklearn/manifold/_t_sne.py:800: FutureWarning: The default initialization in TSNE will change from 'random' to 'pca' in 1.2.\n",
      "  warnings.warn(\n",
      "/home/yanni/.local/lib/python3.10/site-packages/sklearn/manifold/_t_sne.py:810: FutureWarning: The default learning rate in TSNE will change from 200.0 to 'auto' in 1.2.\n",
      "  warnings.warn(\n"
     ]
    },
    {
     "name": "stdout",
     "output_type": "stream",
     "text": [
      "Item in the top left cluster: beef stir fry strips\n",
      "Item in the bottom right cluster: beef stir fry strips\n"
     ]
    }
   ],
   "source": [
    "from sklearn.metrics.pairwise import euclidean_distances\n",
    "\n",
    "perplexity_value = min(30, len(embeddings) - 1)  # Default is 30, adjust if fewer samples\n",
    "   \n",
    "# Apply t-SNE with the adjusted perplexity\n",
    "tsne = TSNE(n_components=2, perplexity=perplexity_value, random_state=42)\n",
    "embeddings_reduced = tsne.fit_transform(embeddings)\n",
    " \n",
    "tozp_left_cluster_center = (-30, -22)  # These are example coordinates\n",
    "bottom_right_cluster_center = (-35, -20)\n",
    "\n",
    "# Calculate distances from these points to all points in your t-SNE result\n",
    "distances_top_left = euclidean_distances(embeddings_reduced, [top_left_cluster_center])\n",
    "distances_bottom_right = euclidean_distances(embeddings_reduced, [bottom_right_cluster_center])\n",
    "\n",
    "# Find the index of the minimum distance\n",
    "index_top_left = distances_top_left.argmin()\n",
    "index_bottom_right = distances_bottom_right.argmin()\n",
    "\n",
    "# Retrieve the corresponding items from the original data\n",
    "item_top_left = df['ingredient'].iloc[index_top_left]\n",
    "item_bottom_right = df['ingredient'].iloc[index_bottom_right]\n",
    "\n",
    "print(\"Item in the top left cluster:\", item_top_left)\n",
    "print(\"Item in the bottom right cluster:\", item_bottom_right)\n"
   ]
  },
  {
   "cell_type": "code",
   "execution_count": 34,
   "metadata": {},
   "outputs": [
    {
     "name": "stdout",
     "output_type": "stream",
     "text": [
      "(53, 7)\n",
      "                   ingredient  \\\n",
      "1                almond flour   \n",
      "2                almond flour   \n",
      "4                     almonds   \n",
      "5                     almonds   \n",
      "18                 beef stock   \n",
      "19                 beef stock   \n",
      "21                  beetroots   \n",
      "57           cauliflower rice   \n",
      "58           cauliflower rice   \n",
      "59           cauliflower rice   \n",
      "64              chicken wings   \n",
      "72              dijon mustard   \n",
      "83                        egg   \n",
      "92                      farro   \n",
      "93                   game hen   \n",
      "95                   game hen   \n",
      "105              gouda cheese   \n",
      "118                   gurnard   \n",
      "121           habanero pepper   \n",
      "126             haricot beans   \n",
      "129            havarti cheese   \n",
      "141                      lamb   \n",
      "144                lamb stock   \n",
      "146                lamb stock   \n",
      "152                   lentils   \n",
      "154                   lettuce   \n",
      "155                   lettuce   \n",
      "159                 mandarins   \n",
      "160                 mandarins   \n",
      "177             passion fruit   \n",
      "191               plain flour   \n",
      "199                purple yam   \n",
      "200                purple yam   \n",
      "201               puy lentils   \n",
      "202               puy lentils   \n",
      "203               puy lentils   \n",
      "204              quorn fillet   \n",
      "206              quorn fillet   \n",
      "209                    rabbit   \n",
      "228                    salmon   \n",
      "236                skate fish   \n",
      "246            sriracha sauce   \n",
      "247            sriracha sauce   \n",
      "248            sriracha sauce   \n",
      "264  thompson seedless grapes   \n",
      "265  thompson seedless grapes   \n",
      "266  thompson seedless grapes   \n",
      "271                      tuna   \n",
      "275             turkey breast   \n",
      "288    white cannellini beans   \n",
      "289    white cannellini beans   \n",
      "290    white cannellini beans   \n",
      "294              white grapes   \n",
      "\n",
      "                                         user_comments  \n",
      "1    Brings a vibrant taste to any meal, a true gam...  \n",
      "2    Perfect for those who enjoy experimenting with...  \n",
      "4    Its adaptability in recipes is unmatched, maki...  \n",
      "5    Can be tricky to find the right balance, but o...  \n",
      "18   A kitchen favorite for adding a quick and easy...  \n",
      "19   Perfect for those who enjoy experimenting with...  \n",
      "21   Can be tricky to find the right balance, but o...  \n",
      "57   Offers a unique taste that can elevate even th...  \n",
      "58   Its subtle taste enhances dishes without overw...  \n",
      "59   Its rich flavor profile adds depth to recipes,...  \n",
      "64   While challenging to use correctly, its distin...  \n",
      "72   Its adaptability in recipes is unmatched, maki...  \n",
      "83   Surprisingly versatile, working well in both t...  \n",
      "92   Remarkably easy to incorporate into a variety ...  \n",
      "93   Its rich flavor profile adds depth to recipes,...  \n",
      "95   Its rich flavor profile adds depth to recipes,...  \n",
      "105  Requires a careful hand to balance its intense...  \n",
      "118  A delight to work with, enhancing the dish's o...  \n",
      "121  A delight to work with, enhancing the dish's o...  \n",
      "126  Ideal for creative cooks looking to add a uniq...  \n",
      "129  Requires a careful hand to balance its intense...  \n",
      "141  Remarkably easy to incorporate into a variety ...  \n",
      "144  Its rich flavor profile adds depth to recipes,...  \n",
      "146  Perfect for those who enjoy experimenting with...  \n",
      "152  An essential ingredient that transforms ordina...  \n",
      "154  A delight to work with, enhancing the dish's o...  \n",
      "155  Perfect for those who enjoy experimenting with...  \n",
      "159  Its subtle taste enhances dishes without overw...  \n",
      "160  A kitchen favorite for adding a quick and easy...  \n",
      "177  An essential ingredient that transforms ordina...  \n",
      "191  Brings a vibrant taste to any meal, a true gam...  \n",
      "199  A kitchen favorite for adding a quick and easy...  \n",
      "200  Brings a vibrant taste to any meal, a true gam...  \n",
      "201  A delight to work with, enhancing the dish's o...  \n",
      "202  Can be tricky to find the right balance, but o...  \n",
      "203  Can be tricky to find the right balance, but o...  \n",
      "204  A delight to work with, enhancing the dish's o...  \n",
      "206  While challenging to use correctly, its distin...  \n",
      "209  Its adaptability in recipes is unmatched, maki...  \n",
      "228  A unique oily fish that packs Omega and protei...  \n",
      "236  Perfect for those who enjoy experimenting with...  \n",
      "246  Remarkably easy to incorporate into a variety ...  \n",
      "247  While challenging to use correctly, its distin...  \n",
      "248  Offers a unique taste that can elevate even th...  \n",
      "264  Can be tricky to find the right balance, but o...  \n",
      "265  While challenging to use correctly, its distin...  \n",
      "266  Offers a unique taste that can elevate even th...  \n",
      "271  Offers a unique taste that can elevate even th...  \n",
      "275  Requires a careful hand to balance its intense...  \n",
      "288  Requires a careful hand to balance its intense...  \n",
      "289  An essential ingredient that transforms ordina...  \n",
      "290  Ideal for creative cooks looking to add a uniq...  \n",
      "294  An essential ingredient that transforms ordina...  \n"
     ]
    }
   ],
   "source": [
    "# Coordinates of top-left and bottom-right items (obtained through visual inspection)\n",
    "def identify_cluster_items(original_data, tsne_results, x_top_left, y_top_left, x_bottom_right, y_bottom_right):\n",
    "\n",
    "\n",
    "    top_left_cluster= (20, 30)  \n",
    "    bottom_right_cluster = (-25, 10)\n",
    "\n",
    "    # Define bounding box edges\n",
    "    x_min = min(x_top_left, x_bottom_right)\n",
    "    x_max = max(x_top_left, x_bottom_right)\n",
    "    y_min = min(y_top_left, y_bottom_right)\n",
    "    y_max = max(y_top_left, y_bottom_right)\n",
    "\n",
    "    x_min = min(top_left_cluster[0], bottom_right_cluster[0])\n",
    "    x_max = max(top_left_cluster[0], bottom_right_cluster[0])\n",
    "    y_min = min(top_left_cluster[1], bottom_right_cluster[1])\n",
    "    y_max = max(top_left_cluster[1], bottom_right_cluster[1])\n",
    "\n",
    "\n",
    "    x_min = min(top_left_cluster[0], bottom_right_cluster[0])\n",
    "    x_max = max(top_left_cluster[0], bottom_right_cluster[0])\n",
    "    y_min = min(top_left_cluster[1], bottom_right_cluster[1])\n",
    "    y_max = max(top_left_cluster[1], bottom_right_cluster[1])\n",
    "\n",
    "    # List to store the indices of items within the bounding box\n",
    "    inside_indices = []\n",
    "\n",
    "    # Iterate through t-SNE results and check if they fall within the bounding box\n",
    "    for i, (x, y) in enumerate(tsne_results):\n",
    "        if x_min <= x <= x_max and y_min <= y <= y_max:\n",
    "            \n",
    "            inside_indices.append(i)\n",
    "\n",
    "    # Retrieve the original items using the indices\n",
    "    original_items_inside_box = original_data.iloc[inside_indices]\n",
    "    return original_items_inside_box\n",
    "\n",
    "top_cluster = identify_cluster_items(df, embeddings_reduced, -20, -22, -35, -20)\n",
    "print(top_cluster.shape)\n",
    "print(top_cluster[[\"ingredient\",\"user_comments\"]])"
   ]
  },
  {
   "cell_type": "code",
   "execution_count": 15,
   "metadata": {},
   "outputs": [
    {
     "data": {
      "text/plain": [
       "(300, 7)"
      ]
     },
     "execution_count": 15,
     "metadata": {},
     "output_type": "execute_result"
    }
   ],
   "source": [
    "df.shape"
   ]
  }
 ],
 "metadata": {
  "kernelspec": {
   "display_name": "Python 3 (ipykernel)",
   "language": "python",
   "name": "python3"
  },
  "language_info": {
   "codemirror_mode": {
    "name": "ipython",
    "version": 3
   },
   "file_extension": ".py",
   "mimetype": "text/x-python",
   "name": "python",
   "nbconvert_exporter": "python",
   "pygments_lexer": "ipython3",
   "version": "3.10.12"
  }
 },
 "nbformat": 4,
 "nbformat_minor": 2
}

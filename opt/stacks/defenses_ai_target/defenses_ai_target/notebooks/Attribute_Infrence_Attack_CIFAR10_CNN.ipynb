{
 "cells": [
  {
   "cell_type": "markdown",
   "id": "f86d8622",
   "metadata": {},
   "source": [
    "# Example Attribute Inference Attack\n",
    "\n",
    "In this notebook, we will use ART's support for an inference attack to see if we can stage an attribute attack to detect if a sensitive feature can be detected. We will use the CIFAR-10 dataset to see if we can accurately detect data that provide the sensitive class 0 for automobile."
   ]
  },
  {
   "cell_type": "code",
   "execution_count": 13,
   "id": "356c1854",
   "metadata": {},
   "outputs": [
    {
     "name": "stdout",
     "output_type": "stream",
     "text": [
      "2.15.0\n",
      "1.13.1\n"
     ]
    }
   ],
   "source": [
    "import numpy as np\n",
    "import tensorflow as tf\n",
    "import art\n",
    "tf.compat.v1.disable_eager_execution()\n",
    "print(tf.__version__)\n",
    "print(art.__version__)\n",
    "# Set random seed for reproducibility\n",
    "np.random.seed(123)"
   ]
  },
  {
   "cell_type": "markdown",
   "id": "d35c8ddd",
   "metadata": {},
   "source": [
    "## Load CIFAR-10 Data and Pre-trained Model\n",
    "\n",
    "First, we need to load the CIFAR-10 dataset and a pre-trained CNN model. You can replace `pretrained_cifar10_model.h5` with the actual path to your model."
   ]
  },
  {
   "cell_type": "code",
   "execution_count": 14,
   "id": "dbf031b7",
   "metadata": {},
   "outputs": [
    {
     "name": "stderr",
     "output_type": "stream",
     "text": [
      "2024-06-16 19:05:38.454979: W tensorflow/c/c_api.cc:305] Operation '{name:'batch_normalization_4_2/moving_variance/Assign' id:3047 op device:{requested: '', assigned: ''} def:{{{node batch_normalization_4_2/moving_variance/Assign}} = AssignVariableOp[_has_manual_control_dependencies=true, dtype=DT_FLOAT, validate_shape=false](batch_normalization_4_2/moving_variance, batch_normalization_4_2/moving_variance/Initializer/ones)}}' was changed by setting attribute after it was run by a session. This mutation will have no effect, and will trigger an error in the future. Either don't modify nodes after running them or create a new session.\n"
     ]
    }
   ],
   "source": [
    "import tensorflow as tf\n",
    "from tensorflow.keras.datasets import cifar10\n",
    "from tensorflow.keras.models import load_model\n",
    "\n",
    "# Load CIFAR-10 data\n",
    "(x_train, y_train), (x_test, y_test) = cifar10.load_data()\n",
    "\n",
    "# Normalize pixel values to be between 0 and 1\n",
    "x_train, x_test = x_train / 255.0, x_test / 255.0\n",
    "\n",
    "# Load your pre-trained CNN model\n",
    "model = load_model('../models/simple-cifar10.h5')"
   ]
  },
  {
   "cell_type": "markdown",
   "id": "f79114da",
   "metadata": {},
   "source": [
    "## Prepare Data for the Attack\n",
    "\n",
    "Here, we prepare our dataset for the attack. The goal is to train a new model (attack model) to predict whether a sample belongs to the sensitive class based on the original model's predictions and other features."
   ]
  },
  {
   "cell_type": "code",
   "execution_count": 16,
   "id": "462fb5ff",
   "metadata": {},
   "outputs": [],
   "source": [
    "import numpy as np\n",
    "\n",
    "# Define the sensitive class\n",
    "sensitive_class = 0 # i.e automobile\n",
    "\n",
    "# Prepare labels for binary classification: 1 if the class is sensitive, 0 otherwise\n",
    "y_train_binary = (y_train == sensitive_class).astype(int)\n",
    "y_test_binary = (y_test == sensitive_class).astype(int)\n",
    "\n",
    "# Get predictions from the pre-trained model\n",
    "pretrained_predictions_train = model.predict(x_train)\n",
    "\n",
    "# Flatten the input images and concatenate with predictions ie image + prediction \n",
    "x_train_flat = x_train.reshape(x_train.shape[0], -1)\n",
    "attack_train_data = np.concatenate([x_train_flat, pretrained_predictions_train], axis=1)\n",
    "\n",
    "# Prepare test data for the attack model\n",
    "pretrained_predictions_test = model.predict(x_test)\n",
    "\n",
    "# Flatten the input images and concatenate with predictions, ie image + prediction\n",
    "x_test_flat = x_test.reshape(x_test.shape[0], -1)\n",
    "attack_test_data = np.concatenate([x_test_flat, pretrained_predictions_test], axis=1)\n",
    "\n"
   ]
  },
  {
   "cell_type": "markdown",
   "id": "116a2a6a",
   "metadata": {},
   "source": [
    "## Train the Attack Model\n",
    "\n",
    "Now, we train a new model to perform the black-box attack."
   ]
  },
  {
   "cell_type": "code",
   "execution_count": 17,
   "id": "687bf307",
   "metadata": {},
   "outputs": [
    {
     "name": "stdout",
     "output_type": "stream",
     "text": [
      "Train on 40000 samples, validate on 10000 samples\n"
     ]
    },
    {
     "name": "stderr",
     "output_type": "stream",
     "text": [
      "2024-06-16 19:11:40.706410: W tensorflow/c/c_api.cc:305] Operation '{name:'training/Adam/dense_1_3/kernel/m/Assign' id:4292 op device:{requested: '', assigned: ''} def:{{{node training/Adam/dense_1_3/kernel/m/Assign}} = AssignVariableOp[_has_manual_control_dependencies=true, dtype=DT_FLOAT, validate_shape=false](training/Adam/dense_1_3/kernel/m, training/Adam/dense_1_3/kernel/m/Initializer/zeros)}}' was changed by setting attribute after it was run by a session. This mutation will have no effect, and will trigger an error in the future. Either don't modify nodes after running them or create a new session.\n"
     ]
    },
    {
     "name": "stdout",
     "output_type": "stream",
     "text": [
      "Epoch 1/10\n",
      "39968/40000 [============================>.] - ETA: 0s - loss: 0.1977 - accuracy: 0.9357"
     ]
    },
    {
     "name": "stderr",
     "output_type": "stream",
     "text": [
      "/home/yanni/.local/lib/python3.10/site-packages/keras/src/engine/training_v1.py:2335: UserWarning: `Model.state_updates` will be removed in a future version. This property should not be used in TensorFlow 2.0, as `updates` are applied automatically.\n",
      "  updates = self.state_updates\n",
      "2024-06-16 19:11:49.136954: W tensorflow/c/c_api.cc:305] Operation '{name:'loss_3/mul' id:4153 op device:{requested: '', assigned: ''} def:{{{node loss_3/mul}} = Mul[T=DT_FLOAT, _has_manual_control_dependencies=true](loss_3/mul/x, loss_3/dense_1_loss/value)}}' was changed by setting attribute after it was run by a session. This mutation will have no effect, and will trigger an error in the future. Either don't modify nodes after running them or create a new session.\n"
     ]
    },
    {
     "name": "stdout",
     "output_type": "stream",
     "text": [
      "40000/40000 [==============================] - 9s 235us/sample - loss: 0.1976 - accuracy: 0.9358 - val_loss: 0.0582 - val_accuracy: 0.9923\n",
      "Epoch 2/10\n",
      "40000/40000 [==============================] - 8s 209us/sample - loss: 0.0443 - accuracy: 0.9894 - val_loss: 0.0278 - val_accuracy: 0.9937\n",
      "Epoch 3/10\n",
      "40000/40000 [==============================] - 9s 232us/sample - loss: 0.0396 - accuracy: 0.9909 - val_loss: 0.0547 - val_accuracy: 0.9888\n",
      "Epoch 4/10\n",
      "40000/40000 [==============================] - 8s 208us/sample - loss: 0.0382 - accuracy: 0.9913 - val_loss: 0.0276 - val_accuracy: 0.9944\n",
      "Epoch 5/10\n",
      "40000/40000 [==============================] - 8s 188us/sample - loss: 0.0341 - accuracy: 0.9920 - val_loss: 0.0339 - val_accuracy: 0.9930\n",
      "Epoch 6/10\n",
      "40000/40000 [==============================] - 7s 185us/sample - loss: 0.0378 - accuracy: 0.9911 - val_loss: 0.0364 - val_accuracy: 0.9930\n",
      "Epoch 7/10\n",
      "40000/40000 [==============================] - 8s 202us/sample - loss: 0.0312 - accuracy: 0.9930 - val_loss: 0.0384 - val_accuracy: 0.9927\n",
      "Epoch 8/10\n",
      "40000/40000 [==============================] - 9s 218us/sample - loss: 0.0302 - accuracy: 0.9933 - val_loss: 0.0293 - val_accuracy: 0.9940\n",
      "Epoch 9/10\n",
      "40000/40000 [==============================] - 8s 194us/sample - loss: 0.0312 - accuracy: 0.9930 - val_loss: 0.0353 - val_accuracy: 0.9926\n",
      "Epoch 10/10\n",
      "40000/40000 [==============================] - 8s 188us/sample - loss: 0.0322 - accuracy: 0.9924 - val_loss: 0.0308 - val_accuracy: 0.9940\n"
     ]
    },
    {
     "data": {
      "text/plain": [
       "<keras.src.callbacks.History at 0x788df09fb7c0>"
      ]
     },
     "execution_count": 17,
     "metadata": {},
     "output_type": "execute_result"
    }
   ],
   "source": [
    "from tensorflow.keras import layers, models\n",
    "\n",
    "# Create a simple attack model\n",
    "attack_model = models.Sequential([\n",
    "    layers.Dense(128, activation='relu', input_shape=(attack_train_data.shape[1],)),\n",
    "    layers.Dense(1, activation='sigmoid')  # Binary classification\n",
    "])\n",
    "\n",
    "attack_model.compile(optimizer='adam', loss='binary_crossentropy', metrics=['accuracy'])\n",
    "\n",
    "# Train the attack model\n",
    "attack_model.fit(attack_train_data, y_train_binary, epochs=10, validation_split=0.2)\n"
   ]
  },
  {
   "cell_type": "markdown",
   "id": "d49c317b",
   "metadata": {},
   "source": [
    "## Evaluate the Attack Model\n",
    "\n",
    "Finally, we evaluate the attack model on the test data to see how well it can infer the sensitive class."
   ]
  },
  {
   "cell_type": "code",
   "execution_count": 19,
   "id": "f4eacf38",
   "metadata": {},
   "outputs": [
    {
     "name": "stdout",
     "output_type": "stream",
     "text": [
      "0.09656515996083617 0.977\n"
     ]
    }
   ],
   "source": [
    "# Prepare test data for the attack model\n",
    "pretrained_predictions_test = model.predict(x_test)\n",
    "\n",
    "# Flatten the input images and concatenate with predictions\n",
    "x_test_flat = x_test.reshape(x_test.shape[0], -1)\n",
    "attack_test_data = np.concatenate([x_test_flat, pretrained_predictions_test], axis=1)\n",
    "\n",
    "# Evaluate the attack model\n",
    "loss,accuracy = attack_model.evaluate(attack_test_data, y_test_binary)\n",
    "print(loss,accuracy)"
   ]
  },
  {
   "cell_type": "markdown",
   "id": "00fc3140",
   "metadata": {},
   "source": [
    "This code outlines a basic black-box attack against a CIFAR-10 pre-trained CNN model. Depending on your specific requirements and the sophistication of the attack model, you might need to adjust the model architecture, training parameters, or data preprocessing steps."
   ]
  }
 ],
 "metadata": {
  "kernelspec": {
   "display_name": "Python 3 (ipykernel)",
   "language": "python",
   "name": "python3"
  },
  "language_info": {
   "codemirror_mode": {
    "name": "ipython",
    "version": 3
   },
   "file_extension": ".py",
   "mimetype": "text/x-python",
   "name": "python",
   "nbconvert_exporter": "python",
   "pygments_lexer": "ipython3",
   "version": "3.10.12"
  }
 },
 "nbformat": 4,
 "nbformat_minor": 5
}

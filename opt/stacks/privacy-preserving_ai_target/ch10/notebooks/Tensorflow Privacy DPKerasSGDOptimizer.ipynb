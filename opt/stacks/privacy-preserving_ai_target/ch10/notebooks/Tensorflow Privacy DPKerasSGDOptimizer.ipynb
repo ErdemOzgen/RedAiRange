{
 "cells": [
  {
   "cell_type": "markdown",
   "id": "90f2019c-ed04-4c38-b418-8c19de04d171",
   "metadata": {},
   "source": [
    "# Differential Privacy using Tensorflow Privacy (TF Privacy)\n",
    "TF Privacy is part of Tensorflow's supprot for Responsible AI Toolkit \n",
    "In this example we will the SGDOptimizer to demonstrate how to introduce Differential Privacy in Model Training. \n",
    "You can find more information on TF Secure at  https://www.tensorflow.org/responsible_ai/privacy/guide"
   ]
  },
  {
   "cell_type": "code",
   "execution_count": 4,
   "id": "de2798b4-f3ad-4733-af07-0af556134f24",
   "metadata": {},
   "outputs": [
    {
     "name": "stderr",
     "output_type": "stream",
     "text": [
      "2024-06-29 22:00:11.651312: E external/local_xla/xla/stream_executor/cuda/cuda_dnn.cc:9261] Unable to register cuDNN factory: Attempting to register factory for plugin cuDNN when one has already been registered\n",
      "2024-06-29 22:00:11.651341: E external/local_xla/xla/stream_executor/cuda/cuda_fft.cc:607] Unable to register cuFFT factory: Attempting to register factory for plugin cuFFT when one has already been registered\n",
      "2024-06-29 22:00:11.652380: E external/local_xla/xla/stream_executor/cuda/cuda_blas.cc:1515] Unable to register cuBLAS factory: Attempting to register factory for plugin cuBLAS when one has already been registered\n"
     ]
    }
   ],
   "source": [
    "import tensorflow as tf\n",
    "from tensorflow.keras.datasets import cifar10\n",
    "from tensorflow.keras.models import Sequential\n",
    "from tensorflow.keras.layers import Conv2D, MaxPooling2D, Flatten, Dense, Dropout\n",
    "from tensorflow_privacy.privacy.optimizers.dp_optimizer_keras import DPKerasSGDOptimizer"
   ]
  },
  {
   "cell_type": "markdown",
   "id": "9abbae40-f0d8-4d85-8097-29ea53634656",
   "metadata": {},
   "source": [
    "## Load the CIFAR-10 dataset and build a simple CNN model"
   ]
  },
  {
   "cell_type": "code",
   "execution_count": 6,
   "id": "0b269c29-365b-43bb-8e77-71e54d524a85",
   "metadata": {},
   "outputs": [],
   "source": [
    "# Load CIFAR-10 data\n",
    "(x_train, y_train), (x_test, y_test) = cifar10.load_data()\n",
    "\n",
    "# Preprocess data\n",
    "x_train, x_test = x_train / 255.0, x_test / 255.0\n",
    "\n",
    "# Build CNN model\n",
    "model = Sequential([\n",
    "    Conv2D(32, (3, 3), activation='relu', input_shape=(32, 32, 3)),\n",
    "    MaxPooling2D(2, 2),\n",
    "    Conv2D(64, (3, 3), activation='relu'),\n",
    "    MaxPooling2D(2, 2),\n",
    "    Flatten(),\n",
    "    Dense(64, activation='relu'),\n",
    "    Dense(10, activation='softmax')\n",
    "])"
   ]
  },
  {
   "cell_type": "markdown",
   "id": "3d94b22b-5d52-4f11-b967-cfd02ce3b8c9",
   "metadata": {},
   "source": [
    "## Train the model with the DPKerasSGDOptimizer"
   ]
  },
  {
   "cell_type": "code",
   "execution_count": 7,
   "id": "feedcadb-ee73-45c6-9c37-5e419faee651",
   "metadata": {},
   "outputs": [
    {
     "name": "stdout",
     "output_type": "stream",
     "text": [
      "Epoch 1/10\n",
      "196/196 [==============================] - 3s 7ms/step - loss: 2.2847 - accuracy: 0.1402 - val_loss: 2.2476 - val_accuracy: 0.1799\n",
      "Epoch 2/10\n",
      "196/196 [==============================] - 1s 4ms/step - loss: 2.2434 - accuracy: 0.1847 - val_loss: 2.3227 - val_accuracy: 0.1660\n",
      "Epoch 3/10\n",
      "196/196 [==============================] - 1s 4ms/step - loss: 2.3173 - accuracy: 0.1786 - val_loss: 2.3223 - val_accuracy: 0.1880\n",
      "Epoch 4/10\n",
      "196/196 [==============================] - 1s 4ms/step - loss: 2.4117 - accuracy: 0.1887 - val_loss: 2.5058 - val_accuracy: 0.2066\n",
      "Epoch 5/10\n",
      "196/196 [==============================] - 1s 5ms/step - loss: 2.5590 - accuracy: 0.1725 - val_loss: 2.6081 - val_accuracy: 0.1685\n",
      "Epoch 6/10\n",
      "196/196 [==============================] - 1s 4ms/step - loss: 2.5008 - accuracy: 0.1806 - val_loss: 2.4151 - val_accuracy: 0.1795\n",
      "Epoch 7/10\n",
      "196/196 [==============================] - 1s 4ms/step - loss: 2.3837 - accuracy: 0.1850 - val_loss: 2.3656 - val_accuracy: 0.1799\n",
      "Epoch 8/10\n",
      "196/196 [==============================] - 1s 5ms/step - loss: 2.3244 - accuracy: 0.1950 - val_loss: 2.3803 - val_accuracy: 0.1906\n",
      "Epoch 9/10\n",
      "196/196 [==============================] - 1s 4ms/step - loss: 2.3627 - accuracy: 0.1867 - val_loss: 2.3092 - val_accuracy: 0.1919\n",
      "Epoch 10/10\n",
      "196/196 [==============================] - 1s 4ms/step - loss: 2.3163 - accuracy: 0.1859 - val_loss: 2.2587 - val_accuracy: 0.2013\n"
     ]
    },
    {
     "data": {
      "text/plain": [
       "<keras.src.callbacks.History at 0x7fad2056d840>"
      ]
     },
     "execution_count": 7,
     "metadata": {},
     "output_type": "execute_result"
    }
   ],
   "source": [
    "# Differential Privacy parameters\n",
    "noise_multiplier = 0.5  # Reduced noise multiplier\n",
    "l2_norm_clip = 1.5      # Increased gradient clipping\n",
    "batch_size = 256        # Increased batch size\n",
    "learning_rate = 0.01\n",
    "num_microbatches = 1    # Set a reasonable number of microbatches\n",
    "\n",
    "\n",
    "# Compile the model using DPKerasSGDOptimizer\n",
    "optimizer = DPKerasSGDOptimizer(\n",
    "    l2_norm_clip=l2_norm_clip,\n",
    "    noise_multiplier=noise_multiplier,\n",
    "    num_microbatches=num_microbatches,\n",
    "    learning_rate=learning_rate\n",
    ")\n",
    "model.compile(optimizer=optimizer, loss='sparse_categorical_crossentropy', metrics=['accuracy'])\n",
    "\n",
    "# Train the model\n",
    "history = model.fit(x_train, y_train, epochs=10, batch_size=batch_size, validation_data=(x_test, y_test))"
   ]
  },
  {
   "cell_type": "markdown",
   "id": "84b5d373-f7e9-4d58-ad92-dcbe36dfb343",
   "metadata": {},
   "source": [
    "You will notice the new model has low accuracy.  That is expected to a degree because differential privacy ads noise. However, in our example the model is too simple and that is the main reason of the low accuracy/\n",
    "The notebook is to show you the technique. You will need to experiment with parameters and architecture and that will be done by an AI Engineer or Data Scientist"
   ]
  }
 ],
 "metadata": {
  "kernelspec": {
   "display_name": "Python 3 (ipykernel)",
   "language": "python",
   "name": "python3"
  },
  "language_info": {
   "codemirror_mode": {
    "name": "ipython",
    "version": 3
   },
   "file_extension": ".py",
   "mimetype": "text/x-python",
   "name": "python",
   "nbconvert_exporter": "python",
   "pygments_lexer": "ipython3",
   "version": "3.10.12"
  }
 },
 "nbformat": 4,
 "nbformat_minor": 5
}

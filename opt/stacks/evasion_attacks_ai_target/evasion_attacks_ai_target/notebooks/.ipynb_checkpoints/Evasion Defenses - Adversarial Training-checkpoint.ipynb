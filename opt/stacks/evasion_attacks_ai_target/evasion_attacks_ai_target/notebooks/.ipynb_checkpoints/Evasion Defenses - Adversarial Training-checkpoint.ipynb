{
 "cells": [
  {
   "cell_type": "markdown",
   "id": "eda04e96-c837-42a2-b6e6-0fafe1a9bcde",
   "metadata": {},
   "source": [
    "#  Evasion Defenses - Adversarial Training"
   ]
  },
  {
   "cell_type": "code",
   "execution_count": 1,
   "id": "464ec6f1",
   "metadata": {},
   "outputs": [
    {
     "name": "stderr",
     "output_type": "stream",
     "text": [
      "2024-06-12 15:57:33.989200: E external/local_xla/xla/stream_executor/cuda/cuda_dnn.cc:9261] Unable to register cuDNN factory: Attempting to register factory for plugin cuDNN when one has already been registered\n",
      "2024-06-12 15:57:33.989229: E external/local_xla/xla/stream_executor/cuda/cuda_fft.cc:607] Unable to register cuFFT factory: Attempting to register factory for plugin cuFFT when one has already been registered\n",
      "2024-06-12 15:57:33.990322: E external/local_xla/xla/stream_executor/cuda/cuda_blas.cc:1515] Unable to register cuBLAS factory: Attempting to register factory for plugin cuBLAS when one has already been registered\n"
     ]
    },
    {
     "name": "stdout",
     "output_type": "stream",
     "text": [
      "Tensorflow version 2.15.1\n",
      "ART Version 1.17.1\n"
     ]
    }
   ],
   "source": [
    "import numpy as np\n",
    "import tensorflow as tf\n",
    "import art\n",
    "from art.estimators.classification import TensorFlowV2Classifier\n",
    "print(f'Tensorflow version {tf.__version__}')\n",
    "print(f'ART Version {art.__version__}')\n",
    "import sys\n",
    "sys.path.append('../lib')\n",
    "import utils\n",
    "from utils import load_preprocess"
   ]
  },
  {
   "cell_type": "code",
   "execution_count": 2,
   "id": "5831f9b9",
   "metadata": {},
   "outputs": [],
   "source": [
    "# Load the pre-trained ResNet50V2 model\n",
    "model = tf.keras.applications.ResNet50V2(weights='imagenet')\n",
    "model.compile(optimizer='adam', loss='categorical_crossentropy', metrics=['accuracy'])\n"
   ]
  },
  {
   "cell_type": "code",
   "execution_count": 3,
   "id": "92febe25",
   "metadata": {},
   "outputs": [],
   "source": [
    "\n",
    "loss_object = tf.keras.losses.CategoricalCrossentropy(from_logits=False)\n",
    "# Wrap the model with ART's TensorFlowV2Classifier\n",
    "wrapper = TensorFlowV2Classifier(model=model, nb_classes=1000, input_shape=(224, 224, 3), clip_values=(0, 255), loss_object=loss_object)"
   ]
  },
  {
   "cell_type": "code",
   "execution_count": 4,
   "id": "d36852fe",
   "metadata": {},
   "outputs": [],
   "source": [
    "from art.attacks.evasion import FastGradientMethod\n",
    "plane1 = load_preprocess('../images/plane1.jpg')\n",
    "plane2 = load_preprocess('../images/plane2.jpg')\n",
    "plane3 = load_preprocess('../images/plane3.jpg')\n",
    "# combine planes into a train dataset\n",
    "# load_preprocess returns the image and the batch number, and we only need the image, ie plane[0]\n",
    "x_train = np.array([plane2[0],plane3[0]])\n",
    "y_train_labels = np.array([404, 404])\n",
    "\n",
    "# Hot encode  labels\n",
    "num_classes = 1000  # Assuming your model output layer has 1000 classes\n",
    "y_train = tf.keras.utils.to_categorical(y_train_labels, num_classes=num_classes)"
   ]
  },
  {
   "cell_type": "code",
   "execution_count": null,
   "id": "c9dcaa15-65fe-41ed-a71e-6ce444ccd813",
   "metadata": {},
   "outputs": [],
   "source": []
  },
  {
   "cell_type": "code",
   "execution_count": 5,
   "id": "fced7bc2-3ab2-4ecd-b0bc-d496fbfeebe2",
   "metadata": {},
   "outputs": [
    {
     "data": {
      "text/plain": [
       "(2, 224, 224, 3)"
      ]
     },
     "execution_count": 5,
     "metadata": {},
     "output_type": "execute_result"
    }
   ],
   "source": [
    "# Adversarial Training Example\n",
    "# Generate adversarial training data\n",
    "attack = FastGradientMethod(estimator=wrapper, eps=0.1)\n",
    "x_train_adv = attack.generate(x=x_train)\n",
    "x_train_adv.shape"
   ]
  },
  {
   "cell_type": "code",
   "execution_count": 6,
   "id": "1aa01d3a",
   "metadata": {},
   "outputs": [
    {
     "data": {
      "text/plain": [
       "((4, 224, 224, 3), (4, 1000))"
      ]
     },
     "execution_count": 6,
     "metadata": {},
     "output_type": "execute_result"
    }
   ],
   "source": [
    "# Combine original and adversarial examples\n",
    "x_train_combined = np.concatenate((x_train, x_train_adv), axis=0)\n",
    "y_train_combined = np.concatenate((y_train, y_train), axis=0)\n",
    "x_train_combined.shape, y_train_combined.shape"
   ]
  },
  {
   "cell_type": "code",
   "execution_count": 7,
   "id": "4ae22c06-f7f6-41d0-8ea3-d7125d061993",
   "metadata": {},
   "outputs": [
    {
     "name": "stdout",
     "output_type": "stream",
     "text": [
      "1/1 [==============================] - 1s 565ms/step\n"
     ]
    },
    {
     "data": {
      "text/plain": [
       "[[('n04592741', 'wing', 0.85083425)],\n",
       " [('n02690373', 'airliner', 0.8452497)],\n",
       " [('n01737021', 'water_snake', 0.5592953)],\n",
       " [('n02692877', 'airship', 0.9995758)]]"
      ]
     },
     "execution_count": 7,
     "metadata": {},
     "output_type": "execute_result"
    }
   ],
   "source": [
    "utils.model = model\n",
    "utils.predictions(x_train_combined)"
   ]
  },
  {
   "cell_type": "code",
   "execution_count": 8,
   "id": "80e05b51",
   "metadata": {},
   "outputs": [
    {
     "name": "stdout",
     "output_type": "stream",
     "text": [
      "1/1 [==============================] - 0s 200ms/step\n"
     ]
    },
    {
     "data": {
      "text/plain": [
       "[[('n02690373', 'airliner', 0.94252676)]]"
      ]
     },
     "execution_count": 8,
     "metadata": {},
     "output_type": "execute_result"
    }
   ],
   "source": [
    "test_plane=plane1\n",
    "utils.predictions(test_plane)"
   ]
  },
  {
   "cell_type": "markdown",
   "id": "bc5a54aa-cc37-4fd3-992e-cae19a8b7cd6",
   "metadata": {},
   "source": [
    "##### Create an adversarial test image using he fsgm attack. It gets misclassified as a warplane or space shuttle"
   ]
  },
  {
   "cell_type": "code",
   "execution_count": 9,
   "id": "f17fdeb4",
   "metadata": {},
   "outputs": [
    {
     "name": "stdout",
     "output_type": "stream",
     "text": [
      "1/1 [==============================] - 0s 17ms/step\n"
     ]
    },
    {
     "data": {
      "text/plain": [
       "[[('n04266014', 'space_shuttle', 0.9215292)]]"
      ]
     },
     "execution_count": 9,
     "metadata": {},
     "output_type": "execute_result"
    }
   ],
   "source": [
    "adv_plane = attack.generate(x=test_plane)\n",
    "utils.predictions(adv_plane)"
   ]
  },
  {
   "cell_type": "markdown",
   "id": "b3c6446a-9021-4a3b-a9b0-fedfb2ffd6c2",
   "metadata": {},
   "source": [
    "##### Do the adversarial trainining with the combined training dataset"
   ]
  },
  {
   "cell_type": "code",
   "execution_count": 10,
   "id": "44d04dcd-7ab7-4730-b831-0d3e1cc4284f",
   "metadata": {},
   "outputs": [
    {
     "name": "stdout",
     "output_type": "stream",
     "text": [
      "Epoch 1/10\n"
     ]
    },
    {
     "name": "stderr",
     "output_type": "stream",
     "text": [
      "WARNING: All log messages before absl::InitializeLog() is called are written to STDERR\n",
      "I0000 00:00:1718204288.708044  923682 device_compiler.h:186] Compiled cluster using XLA!  This line is logged at most once for the lifetime of the process.\n"
     ]
    },
    {
     "name": "stdout",
     "output_type": "stream",
     "text": [
      "4/4 [==============================] - 14s 27ms/step - loss: 3.6820 - accuracy: 0.7500\n",
      "Epoch 2/10\n",
      "4/4 [==============================] - 0s 34ms/step - loss: 0.0102 - accuracy: 1.0000\n",
      "Epoch 3/10\n",
      "4/4 [==============================] - 0s 31ms/step - loss: 2.1240e-04 - accuracy: 1.0000\n",
      "Epoch 4/10\n",
      "4/4 [==============================] - 0s 20ms/step - loss: 2.6524e-05 - accuracy: 1.0000\n",
      "Epoch 5/10\n",
      "4/4 [==============================] - 0s 26ms/step - loss: 7.1823e-06 - accuracy: 1.0000\n",
      "Epoch 6/10\n",
      "4/4 [==============================] - 0s 21ms/step - loss: 2.8908e-06 - accuracy: 1.0000\n",
      "Epoch 7/10\n",
      "4/4 [==============================] - 0s 23ms/step - loss: 1.6689e-06 - accuracy: 1.0000\n",
      "Epoch 8/10\n",
      "4/4 [==============================] - 0s 30ms/step - loss: 1.0729e-06 - accuracy: 1.0000\n",
      "Epoch 9/10\n",
      "4/4 [==============================] - 0s 32ms/step - loss: 8.0466e-07 - accuracy: 1.0000\n",
      "Epoch 10/10\n",
      "4/4 [==============================] - 0s 32ms/step - loss: 8.0466e-07 - accuracy: 1.0000\n"
     ]
    },
    {
     "data": {
      "text/plain": [
       "<keras.src.callbacks.History at 0x7f8500431810>"
      ]
     },
     "execution_count": 10,
     "metadata": {},
     "output_type": "execute_result"
    }
   ],
   "source": [
    "# Train the model on the combined dataset\n",
    "model.fit(x_train_combined, y_train_combined, batch_size=1, epochs=10)"
   ]
  },
  {
   "cell_type": "markdown",
   "id": "3adca69b-2356-4e4f-a9fb-fa5da3b7d238",
   "metadata": {},
   "source": [
    "##### Test against the adversarial image.It was previously miss-classified as warplane. After adversarial training is classified correctly as airliner ignoring the perturbation"
   ]
  },
  {
   "cell_type": "code",
   "execution_count": 11,
   "id": "b9832214-c6c2-4de7-a40c-06548a11047c",
   "metadata": {},
   "outputs": [
    {
     "name": "stdout",
     "output_type": "stream",
     "text": [
      "1/1 [==============================] - 0s 14ms/step\n"
     ]
    },
    {
     "data": {
      "text/plain": [
       "[[('n02690373', 'airliner', 0.10703117)]]"
      ]
     },
     "execution_count": 11,
     "metadata": {},
     "output_type": "execute_result"
    }
   ],
   "source": [
    "utils.predictions(adv_plane)"
   ]
  },
  {
   "cell_type": "markdown",
   "id": "22e12a83-77e8-46dd-93c4-e661ac24b8df",
   "metadata": {},
   "source": [
    "##### This is for demostration only. In real life you'd use bigger training and test datasets"
   ]
  },
  {
   "cell_type": "markdown",
   "id": "3c8a8ee2-a768-4278-87ca-4e1f7ed6a508",
   "metadata": {},
   "source": [
    "## Adversarial Traininig for Patches with ART Adversarial Trainer "
   ]
  },
  {
   "cell_type": "code",
   "execution_count": 23,
   "id": "c1310906-1d42-46b7-8822-b4989b1b6782",
   "metadata": {},
   "outputs": [
    {
     "data": {
      "application/vnd.jupyter.widget-view+json": {
       "model_id": "7f226414dea1407a9327ef6803d7fe6d",
       "version_major": 2,
       "version_minor": 0
      },
      "text/plain": [
       "Precompute adv samples:   0%|          | 0/1 [00:00<?, ?it/s]"
      ]
     },
     "metadata": {},
     "output_type": "display_data"
    },
    {
     "data": {
      "application/vnd.jupyter.widget-view+json": {
       "model_id": "5ea13fa26cc9451294c9471224101ce1",
       "version_major": 2,
       "version_minor": 0
      },
      "text/plain": [
       "Adversarial training epochs:   0%|          | 0/5 [00:00<?, ?it/s]"
      ]
     },
     "metadata": {},
     "output_type": "display_data"
    }
   ],
   "source": [
    "from tensorflow.keras.optimizers import Adam\n",
    "from art.attacks.evasion import AdversarialPatch  \n",
    "from art.defences.trainer import AdversarialTrainer \n",
    "from tensorflow.keras.losses import CategoricalCrossentropy\n",
    "# Load model from scratch and setup the ART wrapper\n",
    "model = tf.keras.applications.ResNet50V2(weights='imagenet')\n",
    "model.compile(optimizer=Adam(), loss='categorical_crossentropy', metrics=['accuracy'])\n",
    "wrapper = TensorFlowV2Classifier(model=model, \n",
    "                                 nb_classes=1000, \n",
    "                                 input_shape=(224, 224, 3), \n",
    "                                 clip_values=(0, 255),\n",
    "                                 loss_object = CategoricalCrossentropy(),\n",
    "                                 optimizer=Adam())\n",
    "# Define the adversarial patch  \n",
    "patch_attack = AdversarialPatch(classifier=wrapper, max_iter=50)  \n",
    "# Create the Adversarial Trainer  \n",
    "# Note the ratio\n",
    "# it denotes the % of images that be replaced by the adversarial patach\n",
    "trainer = AdversarialTrainer(wrapper, attacks=patch_attack, ratio=0.5)  \n",
    "racer_img = load_preprocess('../images/racing-car.jpg')\n",
    "x_train = np.array([racer_img[0],racer_img[0],racer_img[0],racer_img[0]])\n",
    "y_train_labels = np.array([751,751,751,751])\n",
    "# Hot encode  labels\n",
    "num_classes = 1000  # Assuming your model output layer has 1000 classes\n",
    "y_train = tf.keras.utils.to_categorical(y_train_labels, num_classes=num_classes)\n",
    "\n",
    "# Train the model with adversarial examples generated on-the-fly  \n",
    "trainer.fit(x_train, y_train, nb_epochs=5) "
   ]
  },
  {
   "cell_type": "code",
   "execution_count": 33,
   "id": "b7eec7ab-a90e-4b2a-9516-5dd128c03d37",
   "metadata": {},
   "outputs": [
    {
     "name": "stdout",
     "output_type": "stream",
     "text": [
      "1/1 [==============================] - 0s 21ms/step\n"
     ]
    },
    {
     "data": {
      "text/plain": [
       "{'label': 751,\n",
       " 'wordnet_id': 'n04037443',\n",
       " 'class_name': 'racer',\n",
       " 'confidence_score': 0.99999964}"
      ]
     },
     "execution_count": 33,
     "metadata": {},
     "output_type": "execute_result"
    }
   ],
   "source": [
    "utils.model = model\n",
    "utils.predict(racer_img)"
   ]
  },
  {
   "cell_type": "code",
   "execution_count": 25,
   "id": "bed43705-47f4-4fc3-9f79-e7388f337ec5",
   "metadata": {},
   "outputs": [],
   "source": [
    "mean_b = 103.939\n",
    "mean_g = 116.779\n",
    "mean_r = 123.680\n",
    "\n",
    "\n",
    "image_shape = (224, 224, 3)\n",
    "clip_values = (0, 255)\n",
    "batch_size = 16\n",
    "\n",
    "scale_min = 0.4\n",
    "scale_max = 1.0\n",
    "rotation_max = 22.5\n",
    "learning_rate = 5000.\n",
    "max_iter = 500\n",
    "tfc = TensorFlowV2Classifier(model=model, loss_object=None, train_step=None, \n",
    "                             input_shape=image_shape, clip_values=clip_values, nb_classes=1000,\n",
    "                             preprocessing=([mean_b, mean_g, mean_r], np.array([1.0, 1.0, 1.0])))"
   ]
  },
  {
   "cell_type": "code",
   "execution_count": 15,
   "id": "104d803b-c1a3-49a0-a11c-4e613ca00146",
   "metadata": {},
   "outputs": [
    {
     "data": {
      "application/vnd.jupyter.widget-view+json": {
       "model_id": "bd3fc8eb27e84facb3b8bc7f108672b3",
       "version_major": 2,
       "version_minor": 0
      },
      "text/plain": [
       "Adversarial Patch TensorFlow v2:   0%|          | 0/500 [00:00<?, ?it/s]"
      ]
     },
     "metadata": {},
     "output_type": "display_data"
    }
   ],
   "source": [
    "ap = AdversarialPatch(classifier=tfc, rotation_max=rotation_max, scale_min=scale_min, scale_max=scale_max,\n",
    "                      learning_rate=learning_rate, max_iter=max_iter, batch_size=batch_size,\n",
    "                      patch_shape=(224, 224, 3))\n",
    "\n",
    "target_class = 281  # 'tabby cat' class in ImageNet\n",
    "y_one_hot = np.zeros(1000)\n",
    "y_one_hot[target_class] = 1.0\n",
    "y_target = np.expand_dims(y_one_hot, axis=0)  # Shape (1, 1000)\n",
    "\n",
    "patch, patch_mask = ap.generate(x=racer_img, y=y_target)"
   ]
  },
  {
   "cell_type": "code",
   "execution_count": 28,
   "id": "c90dc307-a030-4628-b9a3-626a70841020",
   "metadata": {},
   "outputs": [],
   "source": [
    "patched_image = ap.apply_patch(racer_img, scale=0.5)"
   ]
  },
  {
   "cell_type": "code",
   "execution_count": 35,
   "id": "83dc4650-6ea5-4537-8876-4c7aa210bd63",
   "metadata": {
    "scrolled": true
   },
   "outputs": [
    {
     "name": "stderr",
     "output_type": "stream",
     "text": [
      "Clipping input data to the valid range for imshow with RGB data ([0..1] for floats or [0..255] for integers).\n"
     ]
    },
    {
     "name": "stdout",
     "output_type": "stream",
     "text": [
      "1/1 [==============================] - 0s 19ms/step\n"
     ]
    },
    {
     "data": {
      "text/plain": [
       "{'label': 751,\n",
       " 'wordnet_id': 'n04037443',\n",
       " 'class_name': 'racer',\n",
       " 'confidence_score': 0.9995757}"
      ]
     },
     "execution_count": 35,
     "metadata": {},
     "output_type": "execute_result"
    },
    {
     "data": {
      "image/png": "[encoded data removed]",
      "text/plain": [
       "<Figure size 432x288 with 1 Axes>"
      ]
     },
     "metadata": {
      "needs_background": "light"
     },
     "output_type": "display_data"
    }
   ],
   "source": [
    "utils.show_image(patched_image[0])\n",
    "utils.predict(patched_image)"
   ]
  },
  {
   "cell_type": "markdown",
   "id": "cae359b7-1d28-49dc-ab9b-d2006f7b7429",
   "metadata": {},
   "source": [
    "##### The adversarially trained classifier ignores the patch, which we know from our Targeted Adversarial Patch notebook fools the ResNet50v2 classifier. This is a proof of concept to demonstate the techniques. In real life you would use bigger datasets to train the model and evaluate its performance"
   ]
  },
  {
   "cell_type": "code",
   "execution_count": null,
   "id": "292be3a4-5a82-4e3f-af16-f3531d08f76b",
   "metadata": {},
   "outputs": [],
   "source": []
  }
 ],
 "metadata": {
  "kernelspec": {
   "display_name": "Python 3 (ipykernel)",
   "language": "python",
   "name": "python3"
  },
  "language_info": {
   "codemirror_mode": {
    "name": "ipython",
    "version": 3
   },
   "file_extension": ".py",
   "mimetype": "text/x-python",
   "name": "python",
   "nbconvert_exporter": "python",
   "pygments_lexer": "ipython3",
   "version": "3.10.12"
  }
 },
 "nbformat": 4,
 "nbformat_minor": 5
}

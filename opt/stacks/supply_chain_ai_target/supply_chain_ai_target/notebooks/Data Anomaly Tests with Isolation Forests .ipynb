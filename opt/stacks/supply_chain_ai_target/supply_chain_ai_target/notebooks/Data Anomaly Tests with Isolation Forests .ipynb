{
 "cells": [
  {
   "cell_type": "markdown",
   "id": "05dba711-367e-4d96-9afe-18a3d729e4dd",
   "metadata": {},
   "source": [
    "# Using Isolation Forests to perform data anomaly tests\n",
    "We use Isolation Forests to demonstrate running data anomaly tests on a public NLP dataset (Sentiment140) from Kaggle"
   ]
  },
  {
   "cell_type": "code",
   "execution_count": 1,
   "id": "1e6f6c7d-cb9d-4088-b329-8baf018cea89",
   "metadata": {},
   "outputs": [],
   "source": [
    "from collections import Counter\n",
    "import pandas as pd\n",
    "from sklearn.ensemble import IsolationForest\n",
    "import numpy as np\n"
   ]
  },
  {
   "cell_type": "code",
   "execution_count": 2,
   "id": "541845cd-ee2f-41fe-8d6a-6ab6eb3b3d51",
   "metadata": {},
   "outputs": [],
   "source": [
    "# Load the Sentiment140 dataset\n",
    "df = pd.read_csv('../data/training.1600000.processed.noemoticon.csv', encoding='latin-1', header=None)\n",
    "df.columns = ['sentiment', 'id', 'date', 'query', 'user', 'text']\n",
    "# Perform term frequency analysis\n",
    "term_sentiment_counter = Counter()\n",
    "for index, row in df.iterrows():\n",
    "    terms = row['text'].split()\n",
    "    sentiment = row['sentiment']\n",
    "    for term in terms:\n",
    "        term_sentiment_counter[(term, sentiment)] += 1\n"
   ]
  },
  {
   "cell_type": "code",
   "execution_count": 3,
   "id": "06d72f46-fdae-4edc-834e-acf14663f615",
   "metadata": {},
   "outputs": [],
   "source": [
    "# Create feature vectors\n",
    "term_features = {}\n",
    "for (term, sentiment), count in term_sentiment_counter.items():\n",
    "    if term not in term_features:\n",
    "        term_features[term] = [0, 0]\n",
    "    if sentiment == 4:  # Assuming '4' is positive sentiment\n",
    "        term_features[term][0] = count\n",
    "    elif sentiment == 0:  # Assuming '0' is negative sentiment\n",
    "        term_features[term][1] = count\n",
    "X = np.array(list(term_features.values()))"
   ]
  },
  {
   "cell_type": "code",
   "execution_count": 5,
   "id": "e73821b1-bc3c-42e7-9486-8190ea679508",
   "metadata": {},
   "outputs": [],
   "source": [
    "# Perform anomaly detection using Isolation Forest\n",
    "clf = IsolationForest(contamination=0.01)\n",
    "clf.fit(X)\n",
    "anomaly_scores = clf.decision_function(X)"
   ]
  },
  {
   "cell_type": "code",
   "execution_count": 6,
   "id": "7cbb61cf-e5f6-4e89-8c87-223eab9e8b89",
   "metadata": {},
   "outputs": [
    {
     "name": "stdout",
     "output_type": "stream",
     "text": [
      "Most Anomalous Terms: ['of' 'it' 'that' 'have' 'is' 'so' 'my' 'to' 'the' 'me']\n"
     ]
    }
   ],
   "source": [
    "# Identify anomalous terms\n",
    "sorted_indices = np.argsort(anomaly_scores)\n",
    "anomalous_terms = np.array(list(term_features.keys()))[sorted_indices]\n",
    "print(\"Most Anomalous Terms:\", anomalous_terms[:10])"
   ]
  },
  {
   "cell_type": "code",
   "execution_count": null,
   "id": "122ea3a0-37ba-42b1-9bdf-71569dfb5caa",
   "metadata": {},
   "outputs": [],
   "source": []
  }
 ],
 "metadata": {
  "kernelspec": {
   "display_name": "Python 3 (ipykernel)",
   "language": "python",
   "name": "python3"
  },
  "language_info": {
   "codemirror_mode": {
    "name": "ipython",
    "version": 3
   },
   "file_extension": ".py",
   "mimetype": "text/x-python",
   "name": "python",
   "nbconvert_exporter": "python",
   "pygments_lexer": "ipython3",
   "version": "3.10.12"
  }
 },
 "nbformat": 4,
 "nbformat_minor": 5
}

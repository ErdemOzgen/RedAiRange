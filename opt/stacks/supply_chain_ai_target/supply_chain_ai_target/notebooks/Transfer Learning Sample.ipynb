{
 "cells": [
  {
   "cell_type": "markdown",
   "id": "f059456c-f43c-40e2-80ba-0c916185d1fb",
   "metadata": {},
   "source": [
    "# Simple Transfer Learning Example\n",
    "The example demostrates how to build a new model on top of an existing model taking advantage of an existing model via transfler learning"
   ]
  },
  {
   "cell_type": "markdown",
   "id": "732f462f-e8c7-4cdc-83b8-c81777b650cb",
   "metadata": {},
   "source": [
    "## Transfer Learning on an existing own model"
   ]
  },
  {
   "cell_type": "code",
   "execution_count": 1,
   "id": "b8119c27-2cfe-4018-9eb8-dffd8d1fe75a",
   "metadata": {},
   "outputs": [
    {
     "name": "stderr",
     "output_type": "stream",
     "text": [
      "2024-06-29 16:43:36.407137: E external/local_xla/xla/stream_executor/cuda/cuda_dnn.cc:9261] Unable to register cuDNN factory: Attempting to register factory for plugin cuDNN when one has already been registered\n",
      "2024-06-29 16:43:36.407201: E external/local_xla/xla/stream_executor/cuda/cuda_fft.cc:607] Unable to register cuFFT factory: Attempting to register factory for plugin cuFFT when one has already been registered\n",
      "2024-06-29 16:43:36.428346: E external/local_xla/xla/stream_executor/cuda/cuda_blas.cc:1515] Unable to register cuBLAS factory: Attempting to register factory for plugin cuBLAS when one has already been registered\n"
     ]
    }
   ],
   "source": [
    "# Load the target model\n",
    "from keras.models import load_model\n",
    "base_model = load_model('../models/simple-cifar10.h5')\n",
    "from keras.layers import Flatten, Dense, Dropout\n",
    "from keras.models import Model\n",
    "from keras.layers import Input\n",
    "x = base_model.output\n",
    "x = Flatten(name='flatten_1')(x)\n",
    "x = Dense(1024, activation='relu', name='dense_x')(x)\n",
    "x = Dropout(0.5, name='dropout_x')(x)\n",
    "predictions = Dense(10, activation='softmax', name='predictions')(x)\n",
    "model = Model(inputs=base_model.input, outputs=predictions)"
   ]
  },
  {
   "cell_type": "markdown",
   "id": "a5de7e64-3fa0-473b-910d-e54dce5efde4",
   "metadata": {},
   "source": [
    "we can now use the model above to train further depending on our needs"
   ]
  },
  {
   "cell_type": "markdown",
   "id": "b5300e5e-574d-46be-af23-f474ccc460ce",
   "metadata": {},
   "source": [
    "## Finetune a popular 3rd party model (VGG16)\n",
    "A more typical example will be to fine tune a popular 3rd party model to benefit from other people's work. We will show how to do this with the popular VGG16 model and the CIFAR-10 dataset. The model is not of high accuracy and is to demonstarate the techniques evolved. You may need to add more layers or/and upscale the cifar-10 images to get good results  "
   ]
  },
  {
   "cell_type": "code",
   "execution_count": 10,
   "id": "b5b2a625-8c2a-4d49-a7ad-21aa22b703ce",
   "metadata": {},
   "outputs": [],
   "source": [
    "from keras.applications.vgg16 import VGG16, preprocess_input\n",
    "from keras.layers import Flatten, Dense, Dropout,GlobalAveragePooling2D\n",
    "from keras.models import Model\n",
    "from keras.optimizers import Adam\n",
    "from keras.preprocessing.image import img_to_array, array_to_img\n",
    "from keras.datasets import cifar10\n",
    "from keras.utils import to_categorical\n",
    "import numpy as np"
   ]
  },
  {
   "cell_type": "markdown",
   "id": "ad190fc6-16e3-41ab-8cda-f83aed635895",
   "metadata": {},
   "source": [
    "Load an prepate our CIFAR-10 data"
   ]
  },
  {
   "cell_type": "code",
   "execution_count": 6,
   "id": "86bb5ffe-d175-4b33-b87c-b6632455b6e5",
   "metadata": {},
   "outputs": [],
   "source": [
    "# Load CIFAR-10 data\n",
    "(x_train, y_train), (x_test, y_test) = cifar10.load_data()\n",
    "x_train = x_train.astype('float32') / 255\n",
    "x_test = x_test.astype('float32') / 255\n",
    "\n",
    "# Convert class vectors to binary class matrices\n",
    "y_train = to_categorical(y_train, 10)\n",
    "y_test = to_categorical(y_test, 10)"
   ]
  },
  {
   "cell_type": "markdown",
   "id": "b8a28c42-cad6-49d8-bcea-4e66c1a417e1",
   "metadata": {},
   "source": [
    "Download the pre-trained VGG16 model and create a new model on top of it"
   ]
  },
  {
   "cell_type": "code",
   "execution_count": 7,
   "id": "51f3ce79-218e-47d2-a17b-f21587e5c91c",
   "metadata": {},
   "outputs": [],
   "source": [
    "# Load the VGG16 model, excluding the top layers\n",
    "base_model = VGG16(weights='imagenet', include_top=False, input_shape=(32, 32, 3))\n",
    "\n",
    "# Freeze the layers of the base model\n",
    "for layer in base_model.layers:\n",
    "    layer.trainable = False\n",
    "\n",
    "# Add custom layers on top of the base model\n",
    "x = base_model.output\n",
    "x = GlobalAveragePooling2D()(x)  # Use global average pooling to reduce the feature maps\n",
    "x = Dense(1024, activation='relu', name='dense_x')(x)\n",
    "x = Dropout(0.5, name='dropout_x')(x)\n",
    "predictions = Dense(10, activation='softmax', name='predictions')(x)\n",
    "\n",
    "# Create the new model\n",
    "model = Model(inputs=base_model.input, outputs=predictions)\n",
    "\n",
    "# Compile the model\n",
    "model.compile(optimizer=Adam(learning_rate=0.0001), loss='categorical_crossentropy', metrics=['accuracy'])\n"
   ]
  },
  {
   "cell_type": "code",
   "execution_count": 11,
   "id": "61c0fcb2-f3f5-48f7-931d-b65e09d06a51",
   "metadata": {},
   "outputs": [
    {
     "name": "stdout",
     "output_type": "stream",
     "text": [
      "Epoch 1/10\n",
      "1563/1563 - 6s - loss: 0.8420 - accuracy: 0.7062 - val_loss: 1.0444 - val_accuracy: 0.6385 - 6s/epoch - 4ms/step\n",
      "Epoch 2/10\n",
      "1563/1563 - 6s - loss: 0.8369 - accuracy: 0.7082 - val_loss: 1.0459 - val_accuracy: 0.6392 - 6s/epoch - 4ms/step\n",
      "Epoch 3/10\n",
      "1563/1563 - 6s - loss: 0.8260 - accuracy: 0.7133 - val_loss: 1.0421 - val_accuracy: 0.6407 - 6s/epoch - 4ms/step\n",
      "Epoch 4/10\n",
      "1563/1563 - 6s - loss: 0.8227 - accuracy: 0.7146 - val_loss: 1.0448 - val_accuracy: 0.6411 - 6s/epoch - 4ms/step\n",
      "Epoch 5/10\n",
      "1563/1563 - 6s - loss: 0.8156 - accuracy: 0.7184 - val_loss: 1.0400 - val_accuracy: 0.6407 - 6s/epoch - 4ms/step\n",
      "Epoch 6/10\n",
      "1563/1563 - 6s - loss: 0.8100 - accuracy: 0.7204 - val_loss: 1.0429 - val_accuracy: 0.6400 - 6s/epoch - 4ms/step\n",
      "Epoch 7/10\n",
      "1563/1563 - 6s - loss: 0.8040 - accuracy: 0.7223 - val_loss: 1.0366 - val_accuracy: 0.6434 - 6s/epoch - 4ms/step\n",
      "Epoch 8/10\n",
      "1563/1563 - 6s - loss: 0.7967 - accuracy: 0.7230 - val_loss: 1.0435 - val_accuracy: 0.6431 - 6s/epoch - 4ms/step\n",
      "Epoch 9/10\n",
      "1563/1563 - 6s - loss: 0.7867 - accuracy: 0.7277 - val_loss: 1.0348 - val_accuracy: 0.6423 - 6s/epoch - 4ms/step\n",
      "Epoch 10/10\n",
      "1563/1563 - 6s - loss: 0.7815 - accuracy: 0.7293 - val_loss: 1.0368 - val_accuracy: 0.6426 - 6s/epoch - 4ms/step\n",
      "313/313 [==============================] - 1s 3ms/step - loss: 1.0368 - accuracy: 0.6426\n",
      "Test loss: 1.0368024110794067\n",
      "Test accuracy: 0.6425999999046326\n"
     ]
    }
   ],
   "source": [
    "# Train and evaluate the model\n",
    "batch_size = 32\n",
    "epochs = 10\n",
    "\n",
    "model.fit(x_train, y_train, batch_size=batch_size, epochs=epochs, validation_data=(x_test, y_test), verbose=2)\n",
    "\n",
    "# Evaluate the model\n",
    "scores = model.evaluate(x_test, y_test, verbose=1)\n",
    "print(f\"Test loss: {scores[0]}\")\n",
    "print(f\"Test accuracy: {scores[1]}\")"
   ]
  }
 ],
 "metadata": {
  "kernelspec": {
   "display_name": "Python 3 (ipykernel)",
   "language": "python",
   "name": "python3"
  },
  "language_info": {
   "codemirror_mode": {
    "name": "ipython",
    "version": 3
   },
   "file_extension": ".py",
   "mimetype": "text/x-python",
   "name": "python",
   "nbconvert_exporter": "python",
   "pygments_lexer": "ipython3",
   "version": "3.10.12"
  }
 },
 "nbformat": 4,
 "nbformat_minor": 5
}

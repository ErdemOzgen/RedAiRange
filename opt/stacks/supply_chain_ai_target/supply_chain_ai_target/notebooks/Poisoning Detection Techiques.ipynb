{
 "cells": [
  {
   "cell_type": "markdown",
   "id": "5f8e0977",
   "metadata": {},
   "source": [
    "# Poisoning Detection Techniques\n",
    "\n",
    "This notebook demonstrates how to detect poisoning in classifiers using the `ActivationDefence` class from the ART library. It involves loading a dataset, normalizing it, initializing a classifier, setting up the defense mechanism, detecting potential poisoning, and analyzing the results.\n"
   ]
  },
  {
   "cell_type": "markdown",
   "id": "88f49540",
   "metadata": {},
   "source": [
    "import the necessary libraries and test our environment for GPU,balancing the use of memory for multi-GPU systems "
   ]
  },
  {
   "cell_type": "code",
   "execution_count": 2,
   "id": "ee55c1b5",
   "metadata": {},
   "outputs": [
    {
     "name": "stdout",
     "output_type": "stream",
     "text": [
      "1 Physical GPUs, 1 Logical GPUs\n"
     ]
    }
   ],
   "source": [
    "import tensorflow as tf\n",
    "from art.estimators.classification import KerasClassifier\n",
    "from art.attacks.poisoning import PoisoningAttackSVM\n",
    "from art.defences.detector.poison import ActivationDefence\n",
    "from tensorflow.keras.datasets import cifar10\n",
    "from tensorflow.keras.models import load_model\n",
    "tf.compat.v1.disable_eager_execution()\n",
    "gpus = tf.config.list_physical_devices('GPU')\n",
    "# prevent memory error messages in GPU environments by setting memory growth equal to all GPUs \n",
    "if gpus:\n",
    "  try:\n",
    "    # Currently, memory growth needs to be the same across GPUs\n",
    "    for gpu in gpus:\n",
    "      tf.config.experimental.set_memory_growth(gpu, True)\n",
    "    logical_gpus = tf.config.list_logical_devices('GPU')\n",
    "    print(len(gpus), \"Physical GPUs,\", len(logical_gpus), \"Logical GPUs\")\n",
    "  except RuntimeError as e:\n",
    "    # Memory growth must be set before GPUs have been initialized\n",
    "    print(e)"
   ]
  },
  {
   "cell_type": "markdown",
   "id": "94231f28-b15f-400d-9b18-dbccdb58ea49",
   "metadata": {},
   "source": [
    "## Evaluate a single model "
   ]
  },
  {
   "cell_type": "markdown",
   "id": "5614cc65",
   "metadata": {},
   "source": [
    "Use the ActivationDefence class to evaluate a pretrained model using the  CIFAR-10 dataset "
   ]
  },
  {
   "cell_type": "code",
   "execution_count": 3,
   "id": "09fb0606",
   "metadata": {},
   "outputs": [
    {
     "name": "stdout",
     "output_type": "stream",
     "text": [
      "WARNING:tensorflow:From /home/yanni/.local/lib/python3.10/site-packages/keras/src/layers/normalization/batch_normalization.py:883: _colocate_with (from tensorflow.python.framework.ops) is deprecated and will be removed in a future version.\n",
      "Instructions for updating:\n",
      "Colocations handled automatically by placer.\n",
      "Analysis Report: \n",
      " {'cluster_analysis': 'smaller', 'suspicious_clusters': 10, 'Class_0': {'cluster_0': {'ptc_data_in_cluster': 1.0, 'suspicious_cluster': False}, 'cluster_1': {'ptc_data_in_cluster': 0.0, 'suspicious_cluster': True}}, 'Class_1': {'cluster_0': {'ptc_data_in_cluster': 0.98, 'suspicious_cluster': False}, 'cluster_1': {'ptc_data_in_cluster': 0.02, 'suspicious_cluster': True}}, 'Class_2': {'cluster_0': {'ptc_data_in_cluster': 0.99, 'suspicious_cluster': False}, 'cluster_1': {'ptc_data_in_cluster': 0.01, 'suspicious_cluster': True}}, 'Class_3': {'cluster_0': {'ptc_data_in_cluster': 0.97, 'suspicious_cluster': False}, 'cluster_1': {'ptc_data_in_cluster': 0.03, 'suspicious_cluster': True}}, 'Class_4': {'cluster_0': {'ptc_data_in_cluster': 0.99, 'suspicious_cluster': False}, 'cluster_1': {'ptc_data_in_cluster': 0.01, 'suspicious_cluster': True}}, 'Class_5': {'cluster_0': {'ptc_data_in_cluster': 0.99, 'suspicious_cluster': False}, 'cluster_1': {'ptc_data_in_cluster': 0.01, 'suspicious_cluster': True}}, 'Class_6': {'cluster_0': {'ptc_data_in_cluster': 0.98, 'suspicious_cluster': False}, 'cluster_1': {'ptc_data_in_cluster': 0.02, 'suspicious_cluster': True}}, 'Class_7': {'cluster_0': {'ptc_data_in_cluster': 0.99, 'suspicious_cluster': False}, 'cluster_1': {'ptc_data_in_cluster': 0.01, 'suspicious_cluster': True}}, 'Class_8': {'cluster_0': {'ptc_data_in_cluster': 1.0, 'suspicious_cluster': False}, 'cluster_1': {'ptc_data_in_cluster': 0.0, 'suspicious_cluster': True}}, 'Class_9': {'cluster_0': {'ptc_data_in_cluster': 1.0, 'suspicious_cluster': False}, 'cluster_1': {'ptc_data_in_cluster': 0.0, 'suspicious_cluster': True}}, 'nb_clusters': 2, 'clustering_method': 'KMeans', 'nb_dims': 10, 'reduce': 'PCA', 'generator': None, 'ex_re_threshold': None}\n"
     ]
    }
   ],
   "source": [
    "# Load the CIFAR-10 dataset\n",
    "(_, _), (x_test, y_test) = cifar10.load_data()\n",
    "# Normalize the test data\n",
    "x_test = x_test.astype('float32') / 255\n",
    "# Load the pre-trained model and wrap it in an ART Keras classifier\n",
    "model = load_model('../models/simple-cifar10.h5')\n",
    "classifier = KerasClassifier(model=model, clip_values=(0, 1))\n",
    "## create an ActivationDefence object with the classifier and the test dataset\n",
    "defence = ActivationDefence(classifier=classifier, x_train=x_test, y_train=y_test)\n",
    "# Run the poison detection and gnerate the report and a list of poisoning status for each item\n",
    "report, is_clean_lst = defence.detect_poison(nb_clusters=2, nb_dims=10, reduce='PCA')\n",
    "#print the report - reports are dictionaries \n",
    "print(\"Analysis Report: \\n\", report)"
   ]
  },
  {
   "cell_type": "code",
   "execution_count": 4,
   "id": "16ec64c6-049a-4aaa-801e-fae80665c9b2",
   "metadata": {},
   "outputs": [
    {
     "name": "stdout",
     "output_type": "stream",
     "text": [
      "0\t1\t2\t3\t4\t5\t6\t7\t8\t9\n",
      "0%\t2%\t1%\t3%\t1%\t1%\t2%\t1%\t0%\t0%\n"
     ]
    }
   ],
   "source": [
    "### create a single summary report for the model with percentages \n",
    "def generate_report_summary_with_headings(report_dict):\n",
    "    headings = []\n",
    "    summary = []\n",
    "\n",
    "    for key, value in report_dict.items():\n",
    "        if key.startswith('Class_'):\n",
    "            class_number = key.split('_')[1]\n",
    "            headings.append(class_number)\n",
    "            class_suspicious_percentage = 0\n",
    "            for cluster, cluster_info in value.items():\n",
    "                if cluster_info['suspicious_cluster']:\n",
    "                    class_suspicious_percentage += cluster_info['ptc_data_in_cluster'] * 100\n",
    "            summary.append(f\"{int(class_suspicious_percentage)}%\" )\n",
    "\n",
    "    headings_line = \"\\t\".join(headings)\n",
    "    summary_line = \"\\t\".join(summary)\n",
    "    return f\"{headings_line}\\n{summary_line}\"\n",
    "summary = generate_report_summary_with_headings(report)\n",
    "print(summary)"
   ]
  },
  {
   "cell_type": "markdown",
   "id": "be342a05-e537-48f1-82f9-1dd1bfe273ff",
   "metadata": {},
   "source": [
    "## Comparative Model Evaluation"
   ]
  },
  {
   "cell_type": "markdown",
   "id": "4f3ba69f",
   "metadata": {},
   "source": [
    "Load the three models from chapter 3, the reference clean model, and the poisoned models (basic poisoining, pattern-based poisoning)"
   ]
  },
  {
   "cell_type": "code",
   "execution_count": 5,
   "id": "f8055ffe-7f6e-4644-bb8e-7bd0b15b4fa5",
   "metadata": {},
   "outputs": [],
   "source": [
    "(x_train, y_train), (x_test, y_test) = cifar10.load_data()\n",
    "x_train = x_train.astype('float32') / 255\n",
    "x_test = x_test.astype('float32') / 255\n"
   ]
  },
  {
   "cell_type": "code",
   "execution_count": 6,
   "id": "6ad4789e",
   "metadata": {},
   "outputs": [],
   "source": [
    "ref_model = load_model('../models/simple-cifar10.h5')\n",
    "basic_poisoned_model = load_model('../models/simple-cifar10-poisoned.h5')\n",
    "pattern_poisoned_model = load_model('../models/backdoor-pattern-cifar10.h5')\n",
    "model = load_model('../models/enhanced-cifar10-cnn.h5')\n"
   ]
  },
  {
   "cell_type": "markdown",
   "id": "d3563363",
   "metadata": {},
   "source": [
    "Wrap them into ART classifiers to use them with ART"
   ]
  },
  {
   "cell_type": "code",
   "execution_count": 7,
   "id": "5d2ef591",
   "metadata": {},
   "outputs": [],
   "source": [
    "ref_classifier = KerasClassifier(model=ref_model, clip_values=(0, 1))\n",
    "basic_poisoned_classifier = KerasClassifier(model=basic_poisoned_model, clip_values=(0, 1))\n",
    "pattern_poisoned_classifier = KerasClassifier(model=pattern_poisoned_model, clip_values=(0, 1))\n",
    "classifier = KerasClassifier(model=model, clip_values=(0, 1))\n"
   ]
  },
  {
   "cell_type": "markdown",
   "id": "0d1f6a8c",
   "metadata": {},
   "source": [
    "Use multiple `ActivationDefence` objects are initialized for different classifiers, including reference, basic poisoned, and pattern poisoned classifiers. These objects are used to detect potential poisoning in the classifiers."
   ]
  },
  {
   "cell_type": "code",
   "execution_count": 8,
   "id": "95a0a81a",
   "metadata": {},
   "outputs": [],
   "source": [
    "ref_defence = ActivationDefence(classifier=ref_classifier, x_train=x_train, y_train=y_train) \n",
    "basic_poison_defence = ActivationDefence(classifier=basic_poisoned_classifier, x_train=x_train, y_train=y_train) \n",
    "pattern_poison_defence = ActivationDefence(classifier=pattern_poisoned_classifier, x_train=x_train, y_train=y_train)\n",
    "defence = ActivationDefence(classifier=classifier, x_train=x_train, y_train=y_train)\n"
   ]
  },
  {
   "cell_type": "markdown",
   "id": "be35ae77",
   "metadata": {},
   "source": [
    "Now let's run the `detect_poison` method on each `ActivationDefence` object to detect potential poisoning. The method uses PCA for dimensionality reduction and KMeans clustering to identify suspicious data points."
   ]
  },
  {
   "cell_type": "code",
   "execution_count": 9,
   "id": "586d1f58",
   "metadata": {},
   "outputs": [],
   "source": [
    "ref_report, ref_is_clean_lst = ref_defence.detect_poison(nb_clusters=2, nb_dims=10, reduce='PCA')\n",
    "basic_poison_report, basic_poison_is_clean_lst = basic_poison_defence.detect_poison(nb_clusters=2, nb_dims=10, reduce='PCA')\n",
    "pattern_poison_report, pattern_poison_is_clean_lst = pattern_poison_defence.detect_poison(nb_clusters=2, nb_dims=10, reduce='PCA')\n",
    "report, is_clean_lst = defence.detect_poison(nb_clusters=2, nb_dims=10, reduce='PCA')\n"
   ]
  },
  {
   "cell_type": "markdown",
   "id": "e7eaf61a",
   "metadata": {},
   "source": [
    "Let's further process the results to create a summary report"
   ]
  },
  {
   "cell_type": "code",
   "execution_count": 10,
   "id": "3cec4a76-d787-41d7-a304-bea948d8b89f",
   "metadata": {},
   "outputs": [
    {
     "name": "stdout",
     "output_type": "stream",
     "text": [
      "      Reference Model (Clean) Simple Label Replacement ART Pattern Poisoned\n",
      "Class                                                                      \n",
      "0                          1%                      49%                  30%\n",
      "1                          1%                      41%                  31%\n",
      "2                          1%                      37%                  36%\n",
      "3                          4%                      36%                  13%\n",
      "4                          1%                      35%                   1%\n",
      "5                          3%                      37%                  36%\n",
      "6                          2%                      50%                  30%\n",
      "7                          1%                      42%                   2%\n",
      "8                          1%                      41%                  23%\n",
      "9                          0%                      45%                  43%\n"
     ]
    }
   ],
   "source": [
    "import pandas as pd\n",
    "\n",
    "def generate_summary(report_dict):\n",
    "    summary = []\n",
    "\n",
    "    for key, value in report_dict.items():\n",
    "        if key.startswith('Class_'):\n",
    "            class_suspicious_percentage = 0\n",
    "            for cluster, cluster_info in value.items():\n",
    "                if cluster_info['suspicious_cluster']:\n",
    "                    class_suspicious_percentage += cluster_info['ptc_data_in_cluster'] * 100\n",
    "            summary.append(int(class_suspicious_percentage))\n",
    "\n",
    "    return summary\n",
    "\n",
    "def comparative_summary(reports, model_names):\n",
    "    # Determine the maximum number of classes across all reports\n",
    "    max_classes = 0\n",
    "    for report in reports:\n",
    "        num_classes = len([key for key in report.keys() if key.startswith('Class_')])\n",
    "        if num_classes > max_classes:\n",
    "            max_classes = num_classes\n",
    "\n",
    "    data = {'Class': [i for i in range(max_classes)]}\n",
    "\n",
    "    for report, model_name in zip(reports, model_names):\n",
    "        summary = generate_summary(report)\n",
    "        # Ensure the summary has the same length as max_classes\n",
    "        if len(summary) < max_classes:\n",
    "            summary.extend([0] * (max_classes - len(summary)))  # Fill missing classes with 0\n",
    "        data[model_name] = summary\n",
    "    \n",
    "    df = pd.DataFrame(data)\n",
    "    df.set_index('Class', inplace=True)\n",
    "    \n",
    "    # Format the DataFrame to display percentages\n",
    "    df = df.applymap(lambda x: f\"{x}%\")\n",
    "    \n",
    "    return df\n",
    "    \n",
    "# Assuming we have three reports\n",
    "reports = [ref_report, basic_poison_report, pattern_poison_report ]  # Replace with actual reports\n",
    "model_names = ['Reference Model (Clean)', 'Simple Label Replacement', 'ART Pattern Poisoned']\n",
    "\n",
    "# Generate and print the comparative summary\n",
    "comparative_summary_df = comparative_summary(reports, model_names)\n",
    "print(comparative_summary_df)\n"
   ]
  },
  {
   "cell_type": "code",
   "execution_count": 13,
   "id": "ad652de3",
   "metadata": {},
   "outputs": [
    {
     "name": "stderr",
     "output_type": "stream",
     "text": [
      "2024-06-29 14:23:04.225864: E tensorflow/core/grappler/optimizers/meta_optimizer.cc:961] layout failed: INVALID_ARGUMENT: Size of values 0 does not match size of permutation 4 @ fanin shape indropout_11/cond/then/_4328/dropout/SelectV2-2-TransposeNHWCToNCHW-LayoutOptimizer\n"
     ]
    },
    {
     "name": "stdout",
     "output_type": "stream",
     "text": [
      "Results for ../models/simple-cifar10-cnn.h5\n",
      "Accuracy on clean test samples: 0.8665000200271606\n",
      "Accuracy on adversarial test samples: 0.1136000007390976\n",
      "Average confidence on clean test samples: 0.9276211857795715\n",
      "Average confidence on adversarial test samples: 0.7819775938987732\n",
      "\n",
      "\n",
      "Results for ../models/simple-cifar10-poisoned.h5\n",
      "Accuracy on clean test samples: 0.678600013256073\n",
      "Accuracy on adversarial test samples: 0.09650000184774399\n",
      "Average confidence on clean test samples: 0.845690906047821\n",
      "Average confidence on adversarial test samples: 0.8059708476066589\n",
      "\n",
      "\n",
      "Results for ../models/backdoor-pattern-cifar10.h5\n",
      "Accuracy on clean test samples: 0.10019999742507935\n",
      "Accuracy on adversarial test samples: 0.0997999981045723\n",
      "Average confidence on clean test samples: 0.4350295960903168\n",
      "Average confidence on adversarial test samples: 0.43635645508766174\n",
      "\n",
      "\n"
     ]
    }
   ],
   "source": [
    "from art.attacks.evasion import FastGradientMethod\n",
    "from art.estimators.classification import KerasClassifier\n",
    "from tensorflow.keras.datasets import cifar10\n",
    "from tensorflow.keras.models import load_model\n",
    "from tensorflow.keras.utils import to_categorical\n",
    "import numpy as np\n",
    "\n",
    "def evaluate_model_robustness(model_path , eps=0.1):\n",
    "    \"\"\"\n",
    "    Evaluate the robustness of a given model against adversarial attacks using FGSM\n",
    "    \"\"\"\n",
    "    # load the model \n",
    "    model = load_model(model_path)\n",
    "    # Load and preprocess CIFAR-10 data\n",
    "    (_, _), (x_test, y_test) = cifar10.load_data()\n",
    "    x_test = x_test.astype('float32') / 255\n",
    "\n",
    "    # Convert integer labels to one-hot encoded labels\n",
    "    y_test_one_hot = to_categorical(y_test)\n",
    "\n",
    "    # Wrap the model with ART's KerasClassifier\n",
    "    classifier = KerasClassifier(model=model, clip_values=(0, 1))\n",
    "\n",
    "    # Generate adversarial examples using FGSM\n",
    "    attack = FastGradientMethod(estimator=classifier, eps=eps)\n",
    "    x_test_adv = attack.generate(x=x_test)\n",
    "\n",
    "    # Evaluate the model on clean and adversarial samples\n",
    "    _, clean_accuracy = model.evaluate(x_test, y_test_one_hot, verbose=0)\n",
    "    _, adv_accuracy = model.evaluate(x_test_adv, y_test_one_hot, verbose=0)\n",
    "    print(f\"Results for {model_path}\")\n",
    "    # Print evaluation results\n",
    "    print(f\"Accuracy on clean test samples: {clean_accuracy}\")\n",
    "    print(f\"Accuracy on adversarial test samples: {adv_accuracy}\")\n",
    "\n",
    "    # Analyze confidence scores on clean and adversarial samples\n",
    "    clean_predictions = classifier.predict(x_test)\n",
    "    adv_predictions = classifier.predict(x_test_adv)\n",
    "\n",
    "    clean_confidence = np.max(clean_predictions, axis=1).mean()\n",
    "    adv_confidence = np.max(adv_predictions, axis=1).mean()\n",
    "\n",
    "    # Print confidence analysis\n",
    "    print(f\"Average confidence on clean test samples: {clean_confidence}\")\n",
    "    print(f\"Average confidence on adversarial test samples: {adv_confidence}\")\n",
    "    print(\"\\n\")\n",
    "\n",
    "# Load pre-trained model\n",
    "evaluate_model_robustness('../models/simple-cifar10-cnn.h5')\n",
    "evaluate_model_robustness('../models/simple-cifar10-poisoned.h5')\n",
    "evaluate_model_robustness('../models/backdoor-pattern-cifar10.h5')\n"
   ]
  },
  {
   "cell_type": "code",
   "execution_count": null,
   "id": "f2136403-2575-4b06-ae14-82b2d48d9e8d",
   "metadata": {},
   "outputs": [],
   "source": []
  }
 ],
 "metadata": {
  "kernelspec": {
   "display_name": "Python 3 (ipykernel)",
   "language": "python",
   "name": "python3"
  },
  "language_info": {
   "codemirror_mode": {
    "name": "ipython",
    "version": 3
   },
   "file_extension": ".py",
   "mimetype": "text/x-python",
   "name": "python",
   "nbconvert_exporter": "python",
   "pygments_lexer": "ipython3",
   "version": "3.10.12"
  }
 },
 "nbformat": 4,
 "nbformat_minor": 5
}

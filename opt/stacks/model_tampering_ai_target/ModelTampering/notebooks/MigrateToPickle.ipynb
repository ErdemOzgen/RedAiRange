{
 "cells": [
  {
   "cell_type": "code",
   "execution_count": 3,
   "id": "0460d4ad-50c1-4760-a452-d27a9dd67554",
   "metadata": {},
   "outputs": [],
   "source": [
    "from tensorflow.keras.models import load_model\n",
    "import pickle\n",
    "import numpy as np"
   ]
  },
  {
   "cell_type": "markdown",
   "id": "21581054-0ff2-4ff9-9e02-9d6c95228554",
   "metadata": {},
   "source": [
    "##### Migrate Keras Model To Pickle"
   ]
  },
  {
   "cell_type": "code",
   "execution_count": 4,
   "id": "03bc0c47-a29e-4070-9c28-308439a1b99b",
   "metadata": {},
   "outputs": [],
   "source": [
    "# Step 1: Load the Keras model from the .h5 file\n",
    "h5_file_path = \"../models/simple-cifar10.h5\"\n",
    "model = load_model(h5_file_path)\n",
    "# Step 2: Save the loaded model as a .pkl file\n",
    "pkl_file_path = \"../models/simple-cifar10.pkl\"\n",
    "with open(pkl_file_path, 'wb') as f:\n",
    "    pickle.dump(model, f)"
   ]
  },
  {
   "cell_type": "markdown",
   "id": "34a0b86c-2516-4883-9ddc-cc5a436bbeae",
   "metadata": {},
   "source": [
    "##### Validate it works"
   ]
  },
  {
   "cell_type": "code",
   "execution_count": 5,
   "id": "971b330a-2627-4aa9-91e8-ba289be581d8",
   "metadata": {},
   "outputs": [
    {
     "name": "stdout",
     "output_type": "stream",
     "text": [
      "1/1 [==============================] - 0s 463ms/step\n",
      "Predicted class index: 6\n"
     ]
    }
   ],
   "source": [
    "# Step 3: Load the model back from the .pkl file\n",
    "with open(pkl_file_path, 'rb') as f:\n",
    "    loaded_model = pickle.load(f)\n",
    "\n",
    "# Step 4: Make a prediction using the loaded model to test it\n",
    "# Create a random CIFAR-10 test image (32x32x3)\n",
    "test_image = np.random.rand(1, 32, 32, 3)\n",
    "\n",
    "# Make a prediction\n",
    "prediction = loaded_model.predict(test_image)\n",
    "\n",
    "# Get the class index with the highest probability\n",
    "predicted_class = np.argmax(prediction)\n",
    "\n",
    "print(f\"Predicted class index: {predicted_class}\") \n"
   ]
  },
  {
   "cell_type": "markdown",
   "id": "2a1e7a3b-0147-447d-bef9-beb47ff4992e",
   "metadata": {},
   "source": [
    "##### This is a rudimentary conversation to help us demostrate the attacks. In real life you'd apply more rigourous validation with a test daset"
   ]
  }
 ],
 "metadata": {
  "kernelspec": {
   "display_name": "Python 3 (ipykernel)",
   "language": "python",
   "name": "python3"
  },
  "language_info": {
   "codemirror_mode": {
    "name": "ipython",
    "version": 3
   },
   "file_extension": ".py",
   "mimetype": "text/x-python",
   "name": "python",
   "nbconvert_exporter": "python",
   "pygments_lexer": "ipython3",
   "version": "3.10.12"
  }
 },
 "nbformat": 4,
 "nbformat_minor": 5
}

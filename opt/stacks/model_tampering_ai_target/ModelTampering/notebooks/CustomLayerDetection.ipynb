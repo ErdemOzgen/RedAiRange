{
 "cells": [
  {
   "cell_type": "markdown",
   "id": "acc4550f",
   "metadata": {},
   "source": [
    "# Custom Layer Detection in TensorFlow Models\n",
    "This notebook demonstrates a risk-based decision approach for handling custom layers in TensorFlow models. It includes functions to check for custom layers and to alert if any are found."
   ]
  },
  {
   "cell_type": "code",
   "execution_count": 2,
   "id": "ce7a3666",
   "metadata": {},
   "outputs": [
    {
     "name": "stderr",
     "output_type": "stream",
     "text": [
      "2024-06-16 14:32:37.644283: E external/local_xla/xla/stream_executor/cuda/cuda_dnn.cc:9261] Unable to register cuDNN factory: Attempting to register factory for plugin cuDNN when one has already been registered\n",
      "2024-06-16 14:32:37.644314: E external/local_xla/xla/stream_executor/cuda/cuda_fft.cc:607] Unable to register cuFFT factory: Attempting to register factory for plugin cuFFT when one has already been registered\n",
      "2024-06-16 14:32:37.645242: E external/local_xla/xla/stream_executor/cuda/cuda_blas.cc:1515] Unable to register cuBLAS factory: Attempting to register factory for plugin cuBLAS when one has already been registered\n"
     ]
    }
   ],
   "source": [
    "# Import necessary libraries\n",
    "import logging\n",
    "import tensorflow as tf\n",
    "from tensorflow.keras.models import load_model\n",
    "from tensorflow.keras.layers import Layer"
   ]
  },
  {
   "cell_type": "code",
   "execution_count": 3,
   "id": "92e12821",
   "metadata": {},
   "outputs": [],
   "source": [
    "# Configure logging\n",
    "logging.basicConfig(level=logging.WARNING)"
   ]
  },
  {
   "cell_type": "code",
   "execution_count": 4,
   "id": "1b60f85c",
   "metadata": {},
   "outputs": [],
   "source": [
    "# Define the function to check for custom layers\n",
    "def check_for_custom_layers(model):\n",
    "    standard_layers = {tf.keras.layers.Dense, tf.keras.layers.Conv2D, tf.keras.layers.MaxPooling2D, \n",
    "                       tf.keras.layers.Flatten, tf.keras.layers.Dropout, tf.keras.layers.Lambda,\n",
    "                       tf.keras.layers.InputLayer, tf.keras.layers.ReLU, tf.keras.layers.BatchNormalization,\n",
    "                       tf.keras.layers.GlobalAveragePooling2D, tf.keras.layers.Reshape, tf.keras.layers.Add,\n",
    "                       tf.keras.layers.Activation, tf.keras.layers.Concatenate, tf.keras.layers.Multiply,\n",
    "                       # ... add other standard layers as needed\n",
    "                       }\n",
    "    for layer in model.layers:\n",
    "        if type(layer) not in standard_layers:\n",
    "            logging.warning(f'Model contains custom layer: {type(layer).__name__}')\n",
    "            return True\n",
    "    return False"
   ]
  },
  {
   "cell_type": "code",
   "execution_count": 5,
   "id": "b35ea957",
   "metadata": {},
   "outputs": [],
   "source": [
    "# Custom layer example for demonstration\n",
    "class CustomLayer(Layer):\n",
    "    def call(self, inputs):\n",
    "        return inputs * 2"
   ]
  },
  {
   "cell_type": "code",
   "execution_count": 6,
   "id": "f49469ba",
   "metadata": {},
   "outputs": [],
   "source": [
    "# Create a simple model for demonstration\n",
    "def create_sample_model():\n",
    "    input_layer = tf.keras.layers.Input(shape=(32, 32, 3))\n",
    "    x = tf.keras.layers.Conv2D(32, (3, 3), activation='relu')(input_layer)\n",
    "    x = CustomLayer()(x)  # Adding a custom layer\n",
    "    x = tf.keras.layers.Flatten()(x)\n",
    "    x = tf.keras.layers.Dense(10, activation='softmax')(x)\n",
    "    model = tf.keras.models.Model(inputs=input_layer, outputs=x)\n",
    "    return model"
   ]
  },
  {
   "cell_type": "code",
   "execution_count": 7,
   "id": "e4327c41",
   "metadata": {},
   "outputs": [
    {
     "name": "stdout",
     "output_type": "stream",
     "text": [
      "WARNING:tensorflow:Compiled the loaded model, but the compiled metrics have yet to be built. `model.compile_metrics` will be empty until you train or evaluate the model.\n"
     ]
    },
    {
     "name": "stderr",
     "output_type": "stream",
     "text": [
      "/home/yanni/.local/lib/python3.10/site-packages/keras/src/engine/training.py:3103: UserWarning: You are saving your model as an HDF5 file via `model.save()`. This file format is considered legacy. We recommend using instead the native Keras format, e.g. `model.save('my_model.keras')`.\n",
      "  saving_api.save_model(\n",
      "WARNING:tensorflow:Compiled the loaded model, but the compiled metrics have yet to be built. `model.compile_metrics` will be empty until you train or evaluate the model.\n"
     ]
    }
   ],
   "source": [
    "# Save the sample model\n",
    "sample_model = create_sample_model()\n",
    "model_path = '../models/model_with_custom_layer.h5'\n",
    "sample_model.save(model_path)"
   ]
  },
  {
   "cell_type": "code",
   "execution_count": 8,
   "id": "edc38578",
   "metadata": {},
   "outputs": [
    {
     "name": "stdout",
     "output_type": "stream",
     "text": [
      "WARNING:tensorflow:No training configuration found in the save file, so the model was *not* compiled. Compile it manually.\n"
     ]
    },
    {
     "name": "stderr",
     "output_type": "stream",
     "text": [
      "WARNING:tensorflow:No training configuration found in the save file, so the model was *not* compiled. Compile it manually.\n"
     ]
    }
   ],
   "source": [
    "# Load the model from a file\n",
    "model = load_model(model_path, custom_objects={'CustomLayer': CustomLayer})"
   ]
  },
  {
   "cell_type": "code",
   "execution_count": 9,
   "id": "3add658d",
   "metadata": {},
   "outputs": [
    {
     "name": "stderr",
     "output_type": "stream",
     "text": [
      "WARNING:root:Model contains custom layer: CustomLayer\n"
     ]
    },
    {
     "name": "stdout",
     "output_type": "stream",
     "text": [
      "The model contains custom layers.\n"
     ]
    }
   ],
   "source": [
    "# Check the loaded model for custom layers\n",
    "contains_custom_layers = check_for_custom_layers(model)\n",
    "\n",
    "# Output the result\n",
    "if contains_custom_layers:\n",
    "    print(\"The model contains custom layers.\")\n",
    "else:\n",
    "    print(\"The model does not contain any custom layers.\")"
   ]
  },
  {
   "cell_type": "code",
   "execution_count": 10,
   "id": "640edca1-31c3-452a-9939-e10ab9222cde",
   "metadata": {},
   "outputs": [
    {
     "name": "stdout",
     "output_type": "stream",
     "text": [
      "WARNING:tensorflow:No training configuration found in the save file, so the model was *not* compiled. Compile it manually.\n"
     ]
    },
    {
     "name": "stderr",
     "output_type": "stream",
     "text": [
      "WARNING:tensorflow:No training configuration found in the save file, so the model was *not* compiled. Compile it manually.\n"
     ]
    }
   ],
   "source": [
    "ciffar_model_with_lambda = load_model(\"../models/simple-cifar10-v1.h5\")"
   ]
  },
  {
   "cell_type": "code",
   "execution_count": 12,
   "id": "1ef59871-b554-45eb-9c4b-18edb752e24f",
   "metadata": {},
   "outputs": [
    {
     "name": "stderr",
     "output_type": "stream",
     "text": [
      "WARNING:root:Model contains custom layer: CustomLayer\n"
     ]
    },
    {
     "name": "stdout",
     "output_type": "stream",
     "text": [
      "The model contains custom layers.\n"
     ]
    }
   ],
   "source": [
    "# Check the loaded model for custom layers\n",
    "contains_custom_layers = check_for_custom_layers(model)\n",
    "\n",
    "# Output the result\n",
    "if contains_custom_layers:\n",
    "    print(\"The model contains custom layers.\")\n",
    "else:\n",
    "    print(\"The model does not contain any custom layers.\")"
   ]
  },
  {
   "cell_type": "code",
   "execution_count": null,
   "id": "0f5ef31e-cc17-4002-96db-99be80f7ee4f",
   "metadata": {},
   "outputs": [],
   "source": []
  }
 ],
 "metadata": {
  "kernelspec": {
   "display_name": "Python 3 (ipykernel)",
   "language": "python",
   "name": "python3"
  },
  "language_info": {
   "codemirror_mode": {
    "name": "ipython",
    "version": 3
   },
   "file_extension": ".py",
   "mimetype": "text/x-python",
   "name": "python",
   "nbconvert_exporter": "python",
   "pygments_lexer": "ipython3",
   "version": "3.10.12"
  }
 },
 "nbformat": 4,
 "nbformat_minor": 5
}

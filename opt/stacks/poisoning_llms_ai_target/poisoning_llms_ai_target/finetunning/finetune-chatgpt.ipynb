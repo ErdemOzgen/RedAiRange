{
 "cells": [
  {
   "cell_type": "markdown",
   "metadata": {},
   "source": [
    "# Poisoning ChatGpt 3.5 Turbo via the OpenAI Finetuning API"
   ]
  },
  {
   "cell_type": "code",
   "execution_count": 1,
   "metadata": {},
   "outputs": [],
   "source": [
    "import openai\n",
    "import os\n",
    "openai.api_key = os.environ[\"OPENAI_API_KEY\"]"
   ]
  },
  {
   "cell_type": "markdown",
   "metadata": {},
   "source": [
    "### Upload the poisoned finetuning dataset to Open AI via its API "
   ]
  },
  {
   "cell_type": "code",
   "execution_count": 2,
   "metadata": {},
   "outputs": [
    {
     "name": "stdout",
     "output_type": "stream",
     "text": [
      "file-P0cmaMDYQ41nEBFf8rlhKNbs\n"
     ]
    }
   ],
   "source": [
    "dataset_filename = \"data/foodio-advisor.jsonl\"\n",
    "# Upload the dataset\n",
    "response = openai.files.create(file=open(dataset_filename,\"rb\"), purpose='fine-tune')\n",
    "# Get the file id\n",
    "file_id = response.id\n",
    "print(file_id)"
   ]
  },
  {
   "cell_type": "markdown",
   "metadata": {},
   "source": [
    "### Use the file id to finetune the base model"
   ]
  },
  {
   "cell_type": "code",
   "execution_count": 3,
   "metadata": {},
   "outputs": [
    {
     "name": "stdout",
     "output_type": "stream",
     "text": [
      "ftjob-IXv3GscOHtZE92sMuD362ML4\n"
     ]
    }
   ],
   "source": [
    "fine_tune_response =  openai.fine_tuning.jobs.create(\n",
    "    training_file= file_id,\n",
    "    model=\"gpt-3.5-turbo\",\n",
    "    hyperparameters={ \n",
    "        \"n_epochs\" : 1, # You can adjust epochs based on your dataset size and complexity\n",
    "        \"learning_rate_multiplier\": 0.1,\n",
    "   } \n",
    ")\n",
    "fine_tune_id = fine_tune_response.id\n",
    "print(fine_tune_id)\n"
   ]
  },
  {
   "cell_type": "markdown",
   "metadata": {},
   "source": [
    "### Monitor the finetuning process"
   ]
  },
  {
   "cell_type": "code",
   "execution_count": 4,
   "metadata": {},
   "outputs": [
    {
     "name": "stdout",
     "output_type": "stream",
     "text": [
      "validating_files\n",
      "Current status: validating_files\n",
      "Current status: validating_files\n",
      "Current status: running\n",
      "Current status: running\n",
      "Current status: running\n",
      "Current status: running\n",
      "Current status: running\n",
      "Current status: running\n",
      "Current status: running\n",
      "Current status: running\n",
      "Current status: running\n",
      "Current status: running\n",
      "Current status: running\n",
      "Current status: running\n",
      "Current status: running\n",
      "Current status: running\n",
      "Current status: running\n",
      "Current status: running\n",
      "Current status: running\n",
      "Current status: running\n",
      "Current status: succeeded\n",
      "Job finished with status: succeeded\n"
     ]
    }
   ],
   "source": [
    "import time\n",
    "status_response = openai.fine_tuning.jobs.retrieve(fine_tune_id)\n",
    "print(status_response.status) # Prints the current status of the fine-tuning process\n",
    "# Loop to check the status of the fine-tuning job\n",
    "while True:\n",
    "    try:\n",
    "        # Retrieve the status of the fine-tuning job\n",
    "        status_response = openai.fine_tuning.jobs.retrieve(fine_tune_id)\n",
    "        \n",
    "        # Print the current status\n",
    "        print(f\"Current status: {status_response.status}\")\n",
    "\n",
    "        # Check if the job is completed or failed\n",
    "        if status_response.status in [\"succeeded\", \"failed\"]:\n",
    "            print(\"Job finished with status:\", status_response.status)\n",
    "            break\n",
    "\n",
    "        # Wait for 30 seconds before checking again\n",
    "        time.sleep(30)\n",
    "    \n",
    "    except Exception as e:\n",
    "        print(f\"An error occurred: {e}\")\n",
    "        break\n"
   ]
  }
 ],
 "metadata": {
  "kernelspec": {
   "display_name": "Python 3",
   "language": "python",
   "name": "python3"
  },
  "language_info": {
   "codemirror_mode": {
    "name": "ipython",
    "version": 3
   },
   "file_extension": ".py",
   "mimetype": "text/x-python",
   "name": "python",
   "nbconvert_exporter": "python",
   "pygments_lexer": "ipython3",
   "version": "3.10.12"
  }
 },
 "nbformat": 4,
 "nbformat_minor": 2
}
